{
 "cells": [
  {
   "cell_type": "code",
   "execution_count": 69,
   "id": "defcbc88",
   "metadata": {},
   "outputs": [],
   "source": [
    "import pandas as pd\n",
    "import numpy as np\n",
    "import matplotlib.pyplot as plt\n",
    "import seaborn as sns"
   ]
  },
  {
   "cell_type": "code",
   "execution_count": 70,
   "id": "8f588eee",
   "metadata": {},
   "outputs": [
    {
     "data": {
      "text/html": [
       "<div>\n",
       "<style scoped>\n",
       "    .dataframe tbody tr th:only-of-type {\n",
       "        vertical-align: middle;\n",
       "    }\n",
       "\n",
       "    .dataframe tbody tr th {\n",
       "        vertical-align: top;\n",
       "    }\n",
       "\n",
       "    .dataframe thead th {\n",
       "        text-align: right;\n",
       "    }\n",
       "</style>\n",
       "<table border=\"1\" class=\"dataframe\">\n",
       "  <thead>\n",
       "    <tr style=\"text-align: right;\">\n",
       "      <th></th>\n",
       "      <th>id</th>\n",
       "      <th>text</th>\n",
       "      <th>genre</th>\n",
       "    </tr>\n",
       "  </thead>\n",
       "  <tbody>\n",
       "    <tr>\n",
       "      <th>0</th>\n",
       "      <td>0</td>\n",
       "      <td>eady dead, maybe even wishing he was. INT. 2ND...</td>\n",
       "      <td>thriller</td>\n",
       "    </tr>\n",
       "    <tr>\n",
       "      <th>1</th>\n",
       "      <td>2</td>\n",
       "      <td>t, summa cum laude and all. And I'm about to l...</td>\n",
       "      <td>comedy</td>\n",
       "    </tr>\n",
       "    <tr>\n",
       "      <th>2</th>\n",
       "      <td>3</td>\n",
       "      <td>up Come, I have a surprise.... She takes him ...</td>\n",
       "      <td>drama</td>\n",
       "    </tr>\n",
       "    <tr>\n",
       "      <th>3</th>\n",
       "      <td>4</td>\n",
       "      <td>ded by the two detectives. INT. JEFF'S APARTME...</td>\n",
       "      <td>thriller</td>\n",
       "    </tr>\n",
       "    <tr>\n",
       "      <th>4</th>\n",
       "      <td>5</td>\n",
       "      <td>nd dismounts, just as the other children reach...</td>\n",
       "      <td>drama</td>\n",
       "    </tr>\n",
       "  </tbody>\n",
       "</table>\n",
       "</div>"
      ],
      "text/plain": [
       "   id                                               text     genre\n",
       "0   0  eady dead, maybe even wishing he was. INT. 2ND...  thriller\n",
       "1   2  t, summa cum laude and all. And I'm about to l...    comedy\n",
       "2   3   up Come, I have a surprise.... She takes him ...     drama\n",
       "3   4  ded by the two detectives. INT. JEFF'S APARTME...  thriller\n",
       "4   5  nd dismounts, just as the other children reach...     drama"
      ]
     },
     "execution_count": 70,
     "metadata": {},
     "output_type": "execute_result"
    }
   ],
   "source": [
    "data = pd.read_csv('kaggle_movie_train.csv')\n",
    "data.head()"
   ]
  },
  {
   "cell_type": "code",
   "execution_count": 71,
   "id": "b966e1f9",
   "metadata": {},
   "outputs": [
    {
     "data": {
      "text/plain": [
       "(22579, 3)"
      ]
     },
     "execution_count": 71,
     "metadata": {},
     "output_type": "execute_result"
    }
   ],
   "source": [
    "data.shape"
   ]
  },
  {
   "cell_type": "code",
   "execution_count": 72,
   "id": "d05048f8",
   "metadata": {},
   "outputs": [
    {
     "name": "stdout",
     "output_type": "stream",
     "text": [
      "<class 'pandas.core.frame.DataFrame'>\n",
      "RangeIndex: 22579 entries, 0 to 22578\n",
      "Data columns (total 3 columns):\n",
      " #   Column  Non-Null Count  Dtype \n",
      "---  ------  --------------  ----- \n",
      " 0   id      22579 non-null  int64 \n",
      " 1   text    22579 non-null  object\n",
      " 2   genre   22579 non-null  object\n",
      "dtypes: int64(1), object(2)\n",
      "memory usage: 529.3+ KB\n"
     ]
    }
   ],
   "source": [
    "data.info()"
   ]
  },
  {
   "cell_type": "code",
   "execution_count": 73,
   "id": "50289cb4",
   "metadata": {},
   "outputs": [
    {
     "data": {
      "text/html": [
       "<div>\n",
       "<style scoped>\n",
       "    .dataframe tbody tr th:only-of-type {\n",
       "        vertical-align: middle;\n",
       "    }\n",
       "\n",
       "    .dataframe tbody tr th {\n",
       "        vertical-align: top;\n",
       "    }\n",
       "\n",
       "    .dataframe thead th {\n",
       "        text-align: right;\n",
       "    }\n",
       "</style>\n",
       "<table border=\"1\" class=\"dataframe\">\n",
       "  <thead>\n",
       "    <tr style=\"text-align: right;\">\n",
       "      <th></th>\n",
       "      <th>text</th>\n",
       "      <th>genre</th>\n",
       "    </tr>\n",
       "  </thead>\n",
       "  <tbody>\n",
       "    <tr>\n",
       "      <th>0</th>\n",
       "      <td>eady dead, maybe even wishing he was. INT. 2ND...</td>\n",
       "      <td>thriller</td>\n",
       "    </tr>\n",
       "    <tr>\n",
       "      <th>1</th>\n",
       "      <td>t, summa cum laude and all. And I'm about to l...</td>\n",
       "      <td>comedy</td>\n",
       "    </tr>\n",
       "    <tr>\n",
       "      <th>2</th>\n",
       "      <td>up Come, I have a surprise.... She takes him ...</td>\n",
       "      <td>drama</td>\n",
       "    </tr>\n",
       "    <tr>\n",
       "      <th>3</th>\n",
       "      <td>ded by the two detectives. INT. JEFF'S APARTME...</td>\n",
       "      <td>thriller</td>\n",
       "    </tr>\n",
       "    <tr>\n",
       "      <th>4</th>\n",
       "      <td>nd dismounts, just as the other children reach...</td>\n",
       "      <td>drama</td>\n",
       "    </tr>\n",
       "  </tbody>\n",
       "</table>\n",
       "</div>"
      ],
      "text/plain": [
       "                                                text     genre\n",
       "0  eady dead, maybe even wishing he was. INT. 2ND...  thriller\n",
       "1  t, summa cum laude and all. And I'm about to l...    comedy\n",
       "2   up Come, I have a surprise.... She takes him ...     drama\n",
       "3  ded by the two detectives. INT. JEFF'S APARTME...  thriller\n",
       "4  nd dismounts, just as the other children reach...     drama"
      ]
     },
     "execution_count": 73,
     "metadata": {},
     "output_type": "execute_result"
    }
   ],
   "source": [
    "data.drop(columns= 'id', inplace= True)\n",
    "data.head()"
   ]
  },
  {
   "cell_type": "code",
   "execution_count": 74,
   "id": "0c82946a",
   "metadata": {},
   "outputs": [
    {
     "data": {
      "text/plain": [
       "text     False\n",
       "genre    False\n",
       "dtype: bool"
      ]
     },
     "execution_count": 74,
     "metadata": {},
     "output_type": "execute_result"
    }
   ],
   "source": [
    "data.isna().any()"
   ]
  },
  {
   "cell_type": "code",
   "execution_count": 28,
   "id": "b47cede3",
   "metadata": {},
   "outputs": [
    {
     "data": {
      "text/plain": [
       "drama        8873\n",
       "thriller     6824\n",
       "comedy       2941\n",
       "action       2392\n",
       "sci-fi        613\n",
       "horror        456\n",
       "other         270\n",
       "adventure     147\n",
       "romance        63\n",
       "Name: genre, dtype: int64"
      ]
     },
     "execution_count": 28,
     "metadata": {},
     "output_type": "execute_result"
    }
   ],
   "source": [
    "data['genre'].value_counts()"
   ]
  },
  {
   "cell_type": "code",
   "execution_count": 29,
   "id": "f6dc5347",
   "metadata": {},
   "outputs": [
    {
     "data": {
      "image/png": "[encoded data removed]",
      "text/plain": [
       "<Figure size 576x396 with 1 Axes>"
      ]
     },
     "metadata": {},
     "output_type": "display_data"
    }
   ],
   "source": [
    "plt.style.use('seaborn')\n",
    "data['genre'].value_counts().plot(kind = 'bar')\n",
    "plt.show()"
   ]
  },
  {
   "cell_type": "code",
   "execution_count": 30,
   "id": "bf9630e5",
   "metadata": {},
   "outputs": [
    {
     "data": {
      "text/plain": [
       "{'other': 0,\n",
       " 'action': 1,\n",
       " 'romance': 2,\n",
       " 'horror': 3,\n",
       " 'sci-fi': 4,\n",
       " 'comedy': 5,\n",
       " 'thriller': 6,\n",
       " 'drama': 7,\n",
       " 'adventure': 8}"
      ]
     },
     "execution_count": 30,
     "metadata": {},
     "output_type": "execute_result"
    }
   ],
   "source": [
    "genre_mapping = {'other': 0, 'action': 1, 'romance': 2, 'horror': 3, 'sci-fi': 4, 'comedy': 5,'thriller': 6, 'drama': 7,'adventure': 8}\n",
    "genre_mapping"
   ]
  },
  {
   "cell_type": "code",
   "execution_count": 31,
   "id": "ad7f5200",
   "metadata": {},
   "outputs": [
    {
     "data": {
      "text/html": [
       "<div>\n",
       "<style scoped>\n",
       "    .dataframe tbody tr th:only-of-type {\n",
       "        vertical-align: middle;\n",
       "    }\n",
       "\n",
       "    .dataframe tbody tr th {\n",
       "        vertical-align: top;\n",
       "    }\n",
       "\n",
       "    .dataframe thead th {\n",
       "        text-align: right;\n",
       "    }\n",
       "</style>\n",
       "<table border=\"1\" class=\"dataframe\">\n",
       "  <thead>\n",
       "    <tr style=\"text-align: right;\">\n",
       "      <th></th>\n",
       "      <th>text</th>\n",
       "      <th>genre</th>\n",
       "    </tr>\n",
       "  </thead>\n",
       "  <tbody>\n",
       "    <tr>\n",
       "      <th>0</th>\n",
       "      <td>eady dead, maybe even wishing he was. INT. 2ND...</td>\n",
       "      <td>6</td>\n",
       "    </tr>\n",
       "    <tr>\n",
       "      <th>1</th>\n",
       "      <td>t, summa cum laude and all. And I'm about to l...</td>\n",
       "      <td>5</td>\n",
       "    </tr>\n",
       "    <tr>\n",
       "      <th>2</th>\n",
       "      <td>up Come, I have a surprise.... She takes him ...</td>\n",
       "      <td>7</td>\n",
       "    </tr>\n",
       "    <tr>\n",
       "      <th>3</th>\n",
       "      <td>ded by the two detectives. INT. JEFF'S APARTME...</td>\n",
       "      <td>6</td>\n",
       "    </tr>\n",
       "    <tr>\n",
       "      <th>4</th>\n",
       "      <td>nd dismounts, just as the other children reach...</td>\n",
       "      <td>7</td>\n",
       "    </tr>\n",
       "  </tbody>\n",
       "</table>\n",
       "</div>"
      ],
      "text/plain": [
       "                                                text  genre\n",
       "0  eady dead, maybe even wishing he was. INT. 2ND...      6\n",
       "1  t, summa cum laude and all. And I'm about to l...      5\n",
       "2   up Come, I have a surprise.... She takes him ...      7\n",
       "3  ded by the two detectives. INT. JEFF'S APARTME...      6\n",
       "4  nd dismounts, just as the other children reach...      7"
      ]
     },
     "execution_count": 31,
     "metadata": {},
     "output_type": "execute_result"
    }
   ],
   "source": [
    "data['genre'] = data['genre'].map(genre_mapping)\n",
    "data.head()"
   ]
  },
  {
   "cell_type": "code",
   "execution_count": 32,
   "id": "c072d99d",
   "metadata": {},
   "outputs": [
    {
     "data": {
      "text/plain": [
       "\"eady dead, maybe even wishing he was. INT. 2ND FLOOR HALLWAY THREE NIGHT The Orderly leads Liza to a door. ORDERLY In here. White guy in his 30s. He opens the door and they step into... ROOM THREE There's a white guy in his mid 30s. He looks up. Wild. Straight jacketed. Not Jerry. Liza's reached the end of her rope. She just shakes her head. INT. DECREPIT HOSPITAL ROOM NIGHT Balled up. Fetal. Not really all there. Head pressed to the cement, he tries to sing to himself. JERRY Blue moon... Blue moon... INT. 2ND FLOOR HALLWAY THREE NIGHT Liza just stands there, leaning on a rail on the wall. The Orderly isn't sure what's going on, but he knows it's bad. ORDERLY You okay? Liza starts down the hall with the Orderly following. ORDERLY We got some new patients last week. You want to see them? Liza waves them off. It's hopeless. She stops at a chicken wired window at the end of the hall, looks out. Light's about to break and Jerry's out there somewhere. ORDERLY Look, I gotta get back to work.\""
      ]
     },
     "execution_count": 32,
     "metadata": {},
     "output_type": "execute_result"
    }
   ],
   "source": [
    "data['text'][0]"
   ]
  },
  {
   "cell_type": "markdown",
   "id": "8464831f",
   "metadata": {},
   "source": [
    "# Data cleaning"
   ]
  },
  {
   "cell_type": "code",
   "execution_count": 33,
   "id": "d14ed3b3",
   "metadata": {},
   "outputs": [],
   "source": [
    "import contractions\n",
    "import re\n",
    "import nltk\n",
    "from nltk.corpus import stopwords\n",
    "from nltk.tokenize import word_tokenize\n",
    "from nltk.stem import PorterStemmer\n",
    "ps = PorterStemmer()\n",
    "import string"
   ]
  },
  {
   "cell_type": "code",
   "execution_count": 34,
   "id": "809e6f3d",
   "metadata": {},
   "outputs": [],
   "source": [
    "\n",
    "def preprocessor(text):\n",
    "    text = re.sub(pattern= '[^a-zA-Z]', repl= ' ', string=text)\n",
    "    text = text.lower()\n",
    "    text = text.split()\n",
    "    text = [ words for words in text if words not in set(stopwords.words('english'))]\n",
    "    text = [ps.stem(words)  for words in text]\n",
    "    text = ' '.join(text)\n",
    "    return text"
   ]
  },
  {
   "cell_type": "code",
   "execution_count": 35,
   "id": "f98971dd",
   "metadata": {},
   "outputs": [
    {
     "data": {
      "text/plain": [
       "'eadi dead mayb even wish int nd floor hallway three night orderli lead liza door orderli white guy open door step room three white guy mid look wild straight jacket jerri liza reach end rope shake head int decrepit hospit room night ball fetal realli head press cement tri sing jerri blue moon blue moon int nd floor hallway three night liza stand lean rail wall orderli sure go know bad orderli okay liza start hall orderli follow orderli got new patient last week want see liza wave hopeless stop chicken wire window end hall look light break jerri somewher orderli look gotta get back work'"
      ]
     },
     "execution_count": 35,
     "metadata": {},
     "output_type": "execute_result"
    }
   ],
   "source": [
    "preprocessor(data['text'][0])"
   ]
  },
  {
   "cell_type": "code",
   "execution_count": 36,
   "id": "b010a992",
   "metadata": {},
   "outputs": [
    {
     "data": {
      "text/html": [
       "<div>\n",
       "<style scoped>\n",
       "    .dataframe tbody tr th:only-of-type {\n",
       "        vertical-align: middle;\n",
       "    }\n",
       "\n",
       "    .dataframe tbody tr th {\n",
       "        vertical-align: top;\n",
       "    }\n",
       "\n",
       "    .dataframe thead th {\n",
       "        text-align: right;\n",
       "    }\n",
       "</style>\n",
       "<table border=\"1\" class=\"dataframe\">\n",
       "  <thead>\n",
       "    <tr style=\"text-align: right;\">\n",
       "      <th></th>\n",
       "      <th>text</th>\n",
       "      <th>genre</th>\n",
       "      <th>cleantext</th>\n",
       "    </tr>\n",
       "  </thead>\n",
       "  <tbody>\n",
       "    <tr>\n",
       "      <th>0</th>\n",
       "      <td>eady dead, maybe even wishing he was. INT. 2ND...</td>\n",
       "      <td>6</td>\n",
       "      <td>eadi dead mayb even wish int nd floor hallway ...</td>\n",
       "    </tr>\n",
       "    <tr>\n",
       "      <th>1</th>\n",
       "      <td>t, summa cum laude and all. And I'm about to l...</td>\n",
       "      <td>5</td>\n",
       "      <td>summa cum laud launch brand new magazin call e...</td>\n",
       "    </tr>\n",
       "    <tr>\n",
       "      <th>2</th>\n",
       "      <td>up Come, I have a surprise.... She takes him ...</td>\n",
       "      <td>7</td>\n",
       "      <td>come surpris take hand lead hallway salvator l...</td>\n",
       "    </tr>\n",
       "    <tr>\n",
       "      <th>3</th>\n",
       "      <td>ded by the two detectives. INT. JEFF'S APARTME...</td>\n",
       "      <td>6</td>\n",
       "      <td>ded two detect int jeff apart night medium sho...</td>\n",
       "    </tr>\n",
       "    <tr>\n",
       "      <th>4</th>\n",
       "      <td>nd dismounts, just as the other children reach...</td>\n",
       "      <td>7</td>\n",
       "      <td>nd dismount children reach throw arm embrac ch...</td>\n",
       "    </tr>\n",
       "    <tr>\n",
       "      <th>5</th>\n",
       "      <td>breadth of the bluff. Gabe pulls out his ancie...</td>\n",
       "      <td>6</td>\n",
       "      <td>breadth bluff gabe pull ancient binocular scan...</td>\n",
       "    </tr>\n",
       "    <tr>\n",
       "      <th>6</th>\n",
       "      <td>uilding. A MAN in pajamas runs out into the ra...</td>\n",
       "      <td>6</td>\n",
       "      <td>uild man pajama run rain cabbi lose grip bumpe...</td>\n",
       "    </tr>\n",
       "    <tr>\n",
       "      <th>7</th>\n",
       "      <td>ELLES AND RITA HAYWORTH Just disgustingly rich...</td>\n",
       "      <td>7</td>\n",
       "      <td>ell rita hayworth disgustingli rich well make ...</td>\n",
       "    </tr>\n",
       "    <tr>\n",
       "      <th>8</th>\n",
       "      <td>Memphis goes back into the garage, Budgy cack...</td>\n",
       "      <td>6</td>\n",
       "      <td>memphi goe back garag budgi cackl cut ext ranc...</td>\n",
       "    </tr>\n",
       "    <tr>\n",
       "      <th>9</th>\n",
       "      <td>e reels as the world spins. Sweat pours off hi...</td>\n",
       "      <td>1</td>\n",
       "      <td>e reel world spin sweat pour pressur build ins...</td>\n",
       "    </tr>\n",
       "  </tbody>\n",
       "</table>\n",
       "</div>"
      ],
      "text/plain": [
       "                                                text  genre  \\\n",
       "0  eady dead, maybe even wishing he was. INT. 2ND...      6   \n",
       "1  t, summa cum laude and all. And I'm about to l...      5   \n",
       "2   up Come, I have a surprise.... She takes him ...      7   \n",
       "3  ded by the two detectives. INT. JEFF'S APARTME...      6   \n",
       "4  nd dismounts, just as the other children reach...      7   \n",
       "5  breadth of the bluff. Gabe pulls out his ancie...      6   \n",
       "6  uilding. A MAN in pajamas runs out into the ra...      6   \n",
       "7  ELLES AND RITA HAYWORTH Just disgustingly rich...      7   \n",
       "8   Memphis goes back into the garage, Budgy cack...      6   \n",
       "9  e reels as the world spins. Sweat pours off hi...      1   \n",
       "\n",
       "                                           cleantext  \n",
       "0  eadi dead mayb even wish int nd floor hallway ...  \n",
       "1  summa cum laud launch brand new magazin call e...  \n",
       "2  come surpris take hand lead hallway salvator l...  \n",
       "3  ded two detect int jeff apart night medium sho...  \n",
       "4  nd dismount children reach throw arm embrac ch...  \n",
       "5  breadth bluff gabe pull ancient binocular scan...  \n",
       "6  uild man pajama run rain cabbi lose grip bumpe...  \n",
       "7  ell rita hayworth disgustingli rich well make ...  \n",
       "8  memphi goe back garag budgi cackl cut ext ranc...  \n",
       "9  e reel world spin sweat pour pressur build ins...  "
      ]
     },
     "execution_count": 36,
     "metadata": {},
     "output_type": "execute_result"
    }
   ],
   "source": [
    "data['cleantext'] = data['text'].apply(preprocessor)\n",
    "data.head(10)"
   ]
  },
  {
   "cell_type": "code",
   "execution_count": 37,
   "id": "fea04323",
   "metadata": {},
   "outputs": [],
   "source": [
    "data.to_csv('clean_genre.csv', index=False)"
   ]
  },
  {
   "cell_type": "code",
   "execution_count": 48,
   "id": "9e757747",
   "metadata": {},
   "outputs": [],
   "source": [
    "from sklearn.feature_extraction.text import CountVectorizer\n",
    "cv = CountVectorizer(max_features=10000, ngram_range=(1,2))\n",
    "X = cv.fit_transform(data.cleantext).toarray()"
   ]
  },
  {
   "cell_type": "code",
   "execution_count": 49,
   "id": "55bb08a6",
   "metadata": {},
   "outputs": [
    {
     "data": {
      "text/plain": [
       "(22579, 10000)"
      ]
     },
     "execution_count": 49,
     "metadata": {},
     "output_type": "execute_result"
    }
   ],
   "source": [
    "X.shape"
   ]
  },
  {
   "cell_type": "code",
   "execution_count": 50,
   "id": "9ae8a64c",
   "metadata": {},
   "outputs": [],
   "source": [
    "y = data['genre'].values"
   ]
  },
  {
   "cell_type": "code",
   "execution_count": 51,
   "id": "2f795d25",
   "metadata": {},
   "outputs": [],
   "source": [
    "from sklearn.model_selection import train_test_split\n",
    "X_train, X_test, y_train, y_test = train_test_split(X, y, test_size=0.20, random_state=0)"
   ]
  },
  {
   "cell_type": "code",
   "execution_count": 52,
   "id": "617c05ea",
   "metadata": {},
   "outputs": [
    {
     "data": {
      "text/plain": [
       "MultinomialNB()"
      ]
     },
     "execution_count": 52,
     "metadata": {},
     "output_type": "execute_result"
    }
   ],
   "source": [
    "# Fitting Naive Bayes to the Training set\n",
    "from sklearn.naive_bayes import MultinomialNB\n",
    "nb_classifier = MultinomialNB()\n",
    "nb_classifier.fit(X_train, y_train)"
   ]
  },
  {
   "cell_type": "code",
   "execution_count": 53,
   "id": "18b44b52",
   "metadata": {},
   "outputs": [],
   "source": [
    "# Predicting the Test set results\n",
    "y_pred = nb_classifier.predict(X_test)"
   ]
  },
  {
   "cell_type": "code",
   "execution_count": 54,
   "id": "98b18e07",
   "metadata": {},
   "outputs": [
    {
     "name": "stdout",
     "output_type": "stream",
     "text": [
      "Accuracy score is: 89.57%\n"
     ]
    }
   ],
   "source": [
    "from sklearn.metrics import accuracy_score\n",
    "score_ = accuracy_score(y_test, y_pred)\n",
    "print(\"Accuracy score is: {}%\".format(round(score_*100,2)))"
   ]
  },
  {
   "cell_type": "code",
   "execution_count": 55,
   "id": "b05fc98d",
   "metadata": {},
   "outputs": [
    {
     "name": "stdout",
     "output_type": "stream",
     "text": [
      "[[  62    1    0    2    0    0    0    1    0]\n",
      " [   0  450    0    1    0    8   11    6    0]\n",
      " [   0    1   10    0    0    0    0    0    0]\n",
      " [   0    1    0   73    0    1    3    4    0]\n",
      " [   0    2    0    1  112    2    8    7    0]\n",
      " [   0    7    0    2    4  517   11   18    0]\n",
      " [   0   14    0   11   22   21 1173   77    0]\n",
      " [   3   42    1   21   11   38  103 1607    1]\n",
      " [   0    2    0    0    0    0    1    1   41]]\n",
      "              precision    recall  f1-score   support\n",
      "\n",
      "           0       0.95      0.94      0.95        66\n",
      "           1       0.87      0.95      0.90       476\n",
      "           2       0.91      0.91      0.91        11\n",
      "           3       0.66      0.89      0.76        82\n",
      "           4       0.75      0.85      0.80       132\n",
      "           5       0.88      0.92      0.90       559\n",
      "           6       0.90      0.89      0.89      1318\n",
      "           7       0.93      0.88      0.91      1827\n",
      "           8       0.98      0.91      0.94        45\n",
      "\n",
      "    accuracy                           0.90      4516\n",
      "   macro avg       0.87      0.90      0.88      4516\n",
      "weighted avg       0.90      0.90      0.90      4516\n",
      "\n"
     ]
    }
   ],
   "source": [
    "# model performance\n",
    "from sklearn.metrics import confusion_matrix, classification_report\n",
    "cm = confusion_matrix(y_test, y_pred)\n",
    "print(cm)\n",
    "print(classification_report(y_test, y_pred))"
   ]
  },
  {
   "cell_type": "code",
   "execution_count": 56,
   "id": "837ae8f8",
   "metadata": {},
   "outputs": [],
   "source": [
    "import pickle"
   ]
  },
  {
   "cell_type": "code",
   "execution_count": 57,
   "id": "50ec4d85",
   "metadata": {},
   "outputs": [],
   "source": [
    "pickle.dump(cv,open('vectorizer_genre.pkl','wb'))\n",
    "pickle.dump(nb_classifier,open('model_genre.pkl','wb'))"
   ]
  },
  {
   "cell_type": "code",
   "execution_count": 64,
   "id": "41321b16",
   "metadata": {},
   "outputs": [],
   "source": [
    "def get_key_by_value(dictionary, value):\n",
    "    for key, val in dictionary.items():\n",
    "        if val == value:\n",
    "            return key\n",
    "    return None"
   ]
  },
  {
   "cell_type": "code",
   "execution_count": 67,
   "id": "b4cea4a9",
   "metadata": {},
   "outputs": [],
   "source": [
    "def get_genre(text):\n",
    "    text=preprocessor(text)\n",
    "    vec=[]\n",
    "    vec.append(text)\n",
    "    vector=cv.transform(vec)\n",
    "    res=nb_classifier.predict(vector)[0]\n",
    "    return get_key_by_value(genre_mapping,res)"
   ]
  },
  {
   "cell_type": "code",
   "execution_count": 68,
   "id": "9f03cf06",
   "metadata": {},
   "outputs": [
    {
     "data": {
      "text/plain": [
       "'thriller'"
      ]
     },
     "execution_count": 68,
     "metadata": {},
     "output_type": "execute_result"
    }
   ],
   "source": [
    "get_genre(data['text'][18])"
   ]
  },
  {
   "cell_type": "code",
   "execution_count": 63,
   "id": "b6c94430",
   "metadata": {},
   "outputs": [
    {
     "data": {
      "text/html": [
       "<div>\n",
       "<style scoped>\n",
       "    .dataframe tbody tr th:only-of-type {\n",
       "        vertical-align: middle;\n",
       "    }\n",
       "\n",
       "    .dataframe tbody tr th {\n",
       "        vertical-align: top;\n",
       "    }\n",
       "\n",
       "    .dataframe thead th {\n",
       "        text-align: right;\n",
       "    }\n",
       "</style>\n",
       "<table border=\"1\" class=\"dataframe\">\n",
       "  <thead>\n",
       "    <tr style=\"text-align: right;\">\n",
       "      <th></th>\n",
       "      <th>text</th>\n",
       "      <th>genre</th>\n",
       "      <th>cleantext</th>\n",
       "    </tr>\n",
       "  </thead>\n",
       "  <tbody>\n",
       "    <tr>\n",
       "      <th>0</th>\n",
       "      <td>eady dead, maybe even wishing he was. INT. 2ND...</td>\n",
       "      <td>6</td>\n",
       "      <td>eadi dead mayb even wish int nd floor hallway ...</td>\n",
       "    </tr>\n",
       "    <tr>\n",
       "      <th>1</th>\n",
       "      <td>t, summa cum laude and all. And I'm about to l...</td>\n",
       "      <td>5</td>\n",
       "      <td>summa cum laud launch brand new magazin call e...</td>\n",
       "    </tr>\n",
       "    <tr>\n",
       "      <th>2</th>\n",
       "      <td>up Come, I have a surprise.... She takes him ...</td>\n",
       "      <td>7</td>\n",
       "      <td>come surpris take hand lead hallway salvator l...</td>\n",
       "    </tr>\n",
       "    <tr>\n",
       "      <th>3</th>\n",
       "      <td>ded by the two detectives. INT. JEFF'S APARTME...</td>\n",
       "      <td>6</td>\n",
       "      <td>ded two detect int jeff apart night medium sho...</td>\n",
       "    </tr>\n",
       "    <tr>\n",
       "      <th>4</th>\n",
       "      <td>nd dismounts, just as the other children reach...</td>\n",
       "      <td>7</td>\n",
       "      <td>nd dismount children reach throw arm embrac ch...</td>\n",
       "    </tr>\n",
       "    <tr>\n",
       "      <th>5</th>\n",
       "      <td>breadth of the bluff. Gabe pulls out his ancie...</td>\n",
       "      <td>6</td>\n",
       "      <td>breadth bluff gabe pull ancient binocular scan...</td>\n",
       "    </tr>\n",
       "    <tr>\n",
       "      <th>6</th>\n",
       "      <td>uilding. A MAN in pajamas runs out into the ra...</td>\n",
       "      <td>6</td>\n",
       "      <td>uild man pajama run rain cabbi lose grip bumpe...</td>\n",
       "    </tr>\n",
       "    <tr>\n",
       "      <th>7</th>\n",
       "      <td>ELLES AND RITA HAYWORTH Just disgustingly rich...</td>\n",
       "      <td>7</td>\n",
       "      <td>ell rita hayworth disgustingli rich well make ...</td>\n",
       "    </tr>\n",
       "    <tr>\n",
       "      <th>8</th>\n",
       "      <td>Memphis goes back into the garage, Budgy cack...</td>\n",
       "      <td>6</td>\n",
       "      <td>memphi goe back garag budgi cackl cut ext ranc...</td>\n",
       "    </tr>\n",
       "    <tr>\n",
       "      <th>9</th>\n",
       "      <td>e reels as the world spins. Sweat pours off hi...</td>\n",
       "      <td>1</td>\n",
       "      <td>e reel world spin sweat pour pressur build ins...</td>\n",
       "    </tr>\n",
       "    <tr>\n",
       "      <th>10</th>\n",
       "      <td>ng nasty now. Percy starts to play an old reli...</td>\n",
       "      <td>7</td>\n",
       "      <td>ng nasti perci start play old religi number ha...</td>\n",
       "    </tr>\n",
       "    <tr>\n",
       "      <th>11</th>\n",
       "      <td>maps you know. Swines. Before the war we help...</td>\n",
       "      <td>7</td>\n",
       "      <td>map know swine war help run desert make map ge...</td>\n",
       "    </tr>\n",
       "    <tr>\n",
       "      <th>12</th>\n",
       "      <td>ng ones always break your heart. Donna nods, g...</td>\n",
       "      <td>7</td>\n",
       "      <td>ng one alway break heart donna nod gestur pian...</td>\n",
       "    </tr>\n",
       "    <tr>\n",
       "      <th>13</th>\n",
       "      <td>ilm feeling to it. Andrew WHIPS AROUND to face...</td>\n",
       "      <td>7</td>\n",
       "      <td>ilm feel andrew whip around face andrew take b...</td>\n",
       "    </tr>\n",
       "    <tr>\n",
       "      <th>14</th>\n",
       "      <td>ousse as JACK watches in silence. PARRY molds ...</td>\n",
       "      <td>7</td>\n",
       "      <td>ouss jack watch silenc parri mold hair cone di...</td>\n",
       "    </tr>\n",
       "    <tr>\n",
       "      <th>15</th>\n",
       "      <td>f the Mohicans.' Only book my father ever read...</td>\n",
       "      <td>7</td>\n",
       "      <td>f mohican book father ever read kiss cling lie...</td>\n",
       "    </tr>\n",
       "    <tr>\n",
       "      <th>16</th>\n",
       "      <td>rolls over fruit stands, smashing through a gl...</td>\n",
       "      <td>7</td>\n",
       "      <td>roll fruit stand smash glass wall karaok resta...</td>\n",
       "    </tr>\n",
       "    <tr>\n",
       "      <th>17</th>\n",
       "      <td>in anguish. ED Straight up or on the rocks? B...</td>\n",
       "      <td>7</td>\n",
       "      <td>anguish ed straight rock bela drop gun start w...</td>\n",
       "    </tr>\n",
       "    <tr>\n",
       "      <th>18</th>\n",
       "      <td>t expect me to be all broken up over poor Drex...</td>\n",
       "      <td>6</td>\n",
       "      <td>expect broken poor drexl think fuckin freeload...</td>\n",
       "    </tr>\n",
       "    <tr>\n",
       "      <th>19</th>\n",
       "      <td>sprouts. MARTHA You don't like brussel sprout...</td>\n",
       "      <td>7</td>\n",
       "      <td>sprout martha like brussel sprout agn hate mar...</td>\n",
       "    </tr>\n",
       "  </tbody>\n",
       "</table>\n",
       "</div>"
      ],
      "text/plain": [
       "                                                 text  genre  \\\n",
       "0   eady dead, maybe even wishing he was. INT. 2ND...      6   \n",
       "1   t, summa cum laude and all. And I'm about to l...      5   \n",
       "2    up Come, I have a surprise.... She takes him ...      7   \n",
       "3   ded by the two detectives. INT. JEFF'S APARTME...      6   \n",
       "4   nd dismounts, just as the other children reach...      7   \n",
       "5   breadth of the bluff. Gabe pulls out his ancie...      6   \n",
       "6   uilding. A MAN in pajamas runs out into the ra...      6   \n",
       "7   ELLES AND RITA HAYWORTH Just disgustingly rich...      7   \n",
       "8    Memphis goes back into the garage, Budgy cack...      6   \n",
       "9   e reels as the world spins. Sweat pours off hi...      1   \n",
       "10  ng nasty now. Percy starts to play an old reli...      7   \n",
       "11   maps you know. Swines. Before the war we help...      7   \n",
       "12  ng ones always break your heart. Donna nods, g...      7   \n",
       "13  ilm feeling to it. Andrew WHIPS AROUND to face...      7   \n",
       "14  ousse as JACK watches in silence. PARRY molds ...      7   \n",
       "15  f the Mohicans.' Only book my father ever read...      7   \n",
       "16  rolls over fruit stands, smashing through a gl...      7   \n",
       "17   in anguish. ED Straight up or on the rocks? B...      7   \n",
       "18  t expect me to be all broken up over poor Drex...      6   \n",
       "19   sprouts. MARTHA You don't like brussel sprout...      7   \n",
       "\n",
       "                                            cleantext  \n",
       "0   eadi dead mayb even wish int nd floor hallway ...  \n",
       "1   summa cum laud launch brand new magazin call e...  \n",
       "2   come surpris take hand lead hallway salvator l...  \n",
       "3   ded two detect int jeff apart night medium sho...  \n",
       "4   nd dismount children reach throw arm embrac ch...  \n",
       "5   breadth bluff gabe pull ancient binocular scan...  \n",
       "6   uild man pajama run rain cabbi lose grip bumpe...  \n",
       "7   ell rita hayworth disgustingli rich well make ...  \n",
       "8   memphi goe back garag budgi cackl cut ext ranc...  \n",
       "9   e reel world spin sweat pour pressur build ins...  \n",
       "10  ng nasti perci start play old religi number ha...  \n",
       "11  map know swine war help run desert make map ge...  \n",
       "12  ng one alway break heart donna nod gestur pian...  \n",
       "13  ilm feel andrew whip around face andrew take b...  \n",
       "14  ouss jack watch silenc parri mold hair cone di...  \n",
       "15  f mohican book father ever read kiss cling lie...  \n",
       "16  roll fruit stand smash glass wall karaok resta...  \n",
       "17  anguish ed straight rock bela drop gun start w...  \n",
       "18  expect broken poor drexl think fuckin freeload...  \n",
       "19  sprout martha like brussel sprout agn hate mar...  "
      ]
     },
     "execution_count": 63,
     "metadata": {},
     "output_type": "execute_result"
    }
   ],
   "source": [
    "data.head(20)"
   ]
  },
  {
   "cell_type": "markdown",
   "id": "41a380b4",
   "metadata": {},
   "source": [
    "# Movie API to detect genre"
   ]
  },
  {
   "cell_type": "code",
   "execution_count": 75,
   "id": "9729f7a8",
   "metadata": {},
   "outputs": [],
   "source": [
    "from tmdbv3api import TMDb\n",
    "from tmdbv3api import Movie\n",
    "\n",
    "# Replace 'YOUR_API_KEY' with your actual TMDb API key\n",
    "tmdb = TMDb()\n",
    "tmdb.api_key = 'f03abce17e11e695cce8ce75b3d4348d'\n",
    "movie = Movie()"
   ]
  },
  {
   "cell_type": "code",
   "execution_count": 86,
   "id": "b38a13f2",
   "metadata": {},
   "outputs": [],
   "source": [
    "def get_movie_genre(title):\n",
    "    title = title.split('(')[0].strip()\n",
    "    results = movie.search(title)\n",
    "    try:\n",
    "        return get_genre(results[0].overview)\n",
    "    except:\n",
    "        return 'other'\n",
    "    "
   ]
  },
  {
   "cell_type": "code",
   "execution_count": 91,
   "id": "da338735",
   "metadata": {},
   "outputs": [
    {
     "data": {
      "text/plain": [
       "'thriller'"
      ]
     },
     "execution_count": 91,
     "metadata": {},
     "output_type": "execute_result"
    }
   ],
   "source": [
    "get_movie_genre('The Dark Knight')"
   ]
  },
  {
   "cell_type": "code",
   "execution_count": null,
   "id": "76a4c77e",
   "metadata": {},
   "outputs": [],
   "source": []
  }
 ],
 "metadata": {
  "kernelspec": {
   "display_name": "Python 3 (ipykernel)",
   "language": "python",
   "name": "python3"
  },
  "language_info": {
   "codemirror_mode": {
    "name": "ipython",
    "version": 3
   },
   "file_extension": ".py",
   "mimetype": "text/x-python",
   "name": "python",
   "nbconvert_exporter": "python",
   "pygments_lexer": "ipython3",
   "version": "3.9.12"
  }
 },
 "nbformat": 4,
 "nbformat_minor": 5
}
