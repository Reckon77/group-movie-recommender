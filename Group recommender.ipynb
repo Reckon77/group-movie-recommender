{
 "cells": [
  {
   "cell_type": "code",
   "execution_count": 4,
   "id": "f4a3b8ad",
   "metadata": {},
   "outputs": [],
   "source": [
    "import pandas as pd\n",
    "import numpy as np"
   ]
  },
  {
   "cell_type": "code",
   "execution_count": 5,
   "id": "cdbc659c",
   "metadata": {},
   "outputs": [
    {
     "data": {
      "text/html": [
       "<div>\n",
       "<style scoped>\n",
       "    .dataframe tbody tr th:only-of-type {\n",
       "        vertical-align: middle;\n",
       "    }\n",
       "\n",
       "    .dataframe tbody tr th {\n",
       "        vertical-align: top;\n",
       "    }\n",
       "\n",
       "    .dataframe thead th {\n",
       "        text-align: right;\n",
       "    }\n",
       "</style>\n",
       "<table border=\"1\" class=\"dataframe\">\n",
       "  <thead>\n",
       "    <tr style=\"text-align: right;\">\n",
       "      <th></th>\n",
       "      <th>user_id</th>\n",
       "      <th>movie_id</th>\n",
       "      <th>rating</th>\n",
       "      <th>timestamp</th>\n",
       "      <th>title</th>\n",
       "      <th>genre</th>\n",
       "    </tr>\n",
       "  </thead>\n",
       "  <tbody>\n",
       "    <tr>\n",
       "      <th>0</th>\n",
       "      <td>5755</td>\n",
       "      <td>184</td>\n",
       "      <td>3</td>\n",
       "      <td>958280246</td>\n",
       "      <td>Nadja (1994)</td>\n",
       "      <td>Drama</td>\n",
       "    </tr>\n",
       "    <tr>\n",
       "      <th>1</th>\n",
       "      <td>4585</td>\n",
       "      <td>519</td>\n",
       "      <td>3</td>\n",
       "      <td>964321944</td>\n",
       "      <td>Robocop 3 (1993)</td>\n",
       "      <td>Sci-Fi|Thriller</td>\n",
       "    </tr>\n",
       "    <tr>\n",
       "      <th>2</th>\n",
       "      <td>1503</td>\n",
       "      <td>3114</td>\n",
       "      <td>4</td>\n",
       "      <td>974762175</td>\n",
       "      <td>Toy Story 2 (1999)</td>\n",
       "      <td>Animation|Children's|Comedy</td>\n",
       "    </tr>\n",
       "    <tr>\n",
       "      <th>3</th>\n",
       "      <td>2166</td>\n",
       "      <td>648</td>\n",
       "      <td>4</td>\n",
       "      <td>974614593</td>\n",
       "      <td>Mission: Impossible (1996)</td>\n",
       "      <td>Action|Adventure|Mystery</td>\n",
       "    </tr>\n",
       "    <tr>\n",
       "      <th>4</th>\n",
       "      <td>3201</td>\n",
       "      <td>2178</td>\n",
       "      <td>5</td>\n",
       "      <td>968626301</td>\n",
       "      <td>Frenzy (1972)</td>\n",
       "      <td>Thriller</td>\n",
       "    </tr>\n",
       "  </tbody>\n",
       "</table>\n",
       "</div>"
      ],
      "text/plain": [
       "   user_id  movie_id  rating  timestamp                       title  \\\n",
       "0     5755       184       3  958280246                Nadja (1994)   \n",
       "1     4585       519       3  964321944            Robocop 3 (1993)   \n",
       "2     1503      3114       4  974762175          Toy Story 2 (1999)   \n",
       "3     2166       648       4  974614593  Mission: Impossible (1996)   \n",
       "4     3201      2178       5  968626301               Frenzy (1972)   \n",
       "\n",
       "                         genre  \n",
       "0                        Drama  \n",
       "1              Sci-Fi|Thriller  \n",
       "2  Animation|Children's|Comedy  \n",
       "3     Action|Adventure|Mystery  \n",
       "4                     Thriller  "
      ]
     },
     "execution_count": 5,
     "metadata": {},
     "output_type": "execute_result"
    }
   ],
   "source": [
    "df=pd.read_csv('movielens.csv')\n",
    "df.head()"
   ]
  },
  {
   "cell_type": "code",
   "execution_count": 6,
   "id": "ae98a8ce",
   "metadata": {},
   "outputs": [
    {
     "data": {
      "text/plain": [
       "(1000209, 6)"
      ]
     },
     "execution_count": 6,
     "metadata": {},
     "output_type": "execute_result"
    }
   ],
   "source": [
    "df.shape"
   ]
  },
  {
   "cell_type": "code",
   "execution_count": 17,
   "id": "89b9f728",
   "metadata": {},
   "outputs": [],
   "source": [
    "ratings_per_reviewer = df.groupby('user_id').size()\n",
    "\n",
    "# Get the reviewer IDs that have given at least 50 ratings\n",
    "reviewer_ids = ratings_per_reviewer[ratings_per_reviewer >= 50].index\n",
    "\n",
    "# Filter the dataset to only include reviewers with at least 50 ratings\n",
    "df = df[df['user_id'].isin(reviewer_ids)]"
   ]
  },
  {
   "cell_type": "code",
   "execution_count": 18,
   "id": "9073f19e",
   "metadata": {},
   "outputs": [
    {
     "data": {
      "text/plain": [
       "(943471, 6)"
      ]
     },
     "execution_count": 18,
     "metadata": {},
     "output_type": "execute_result"
    }
   ],
   "source": [
    "df.shape"
   ]
  },
  {
   "cell_type": "code",
   "execution_count": 19,
   "id": "fa988133",
   "metadata": {},
   "outputs": [],
   "source": [
    "ratings_per_movie = df.groupby('title').size()\n",
    "\n",
    "# Get the movie names that have received at least 200 ratings\n",
    "movie_ids = ratings_per_movie[ratings_per_movie >= 200].index\n",
    "\n",
    "# Filter the dataset to only include movies with at least 200 ratings\n",
    "df = df[df['title'].isin(movie_ids)]"
   ]
  },
  {
   "cell_type": "code",
   "execution_count": 20,
   "id": "b89440ed",
   "metadata": {},
   "outputs": [
    {
     "data": {
      "text/plain": [
       "(798174, 6)"
      ]
     },
     "execution_count": 20,
     "metadata": {},
     "output_type": "execute_result"
    }
   ],
   "source": [
    "df.shape"
   ]
  },
  {
   "cell_type": "code",
   "execution_count": 21,
   "id": "4e1720f4",
   "metadata": {},
   "outputs": [],
   "source": [
    "from surprise import Dataset, Reader\n",
    "from surprise.prediction_algorithms.matrix_factorization import SVD\n",
    "from surprise import accuracy\n",
    "from surprise.model_selection import train_test_split"
   ]
  },
  {
   "cell_type": "code",
   "execution_count": 22,
   "id": "f5a99d00",
   "metadata": {},
   "outputs": [],
   "source": [
    "# Initialize a surprise reader object\n",
    "reader = Reader(line_format='user item rating', sep=',', rating_scale=(0,5), skip_lines=1)\n",
    "\n",
    "# Load the data\n",
    "#data = Dataset.load_from_df(df[['user_id','movie_id','rating']], reader=reader)\n",
    "data = Dataset.load_from_df(df[['user_id','title','rating']], reader=reader)\n",
    "\n",
    "# Build trainset object(perform this only when you are using whole dataset to train)\n",
    "#trainset = data.build_full_trainset()\n",
    "\n",
    "trainset, testset = train_test_split(data, test_size=0.2)"
   ]
  },
  {
   "cell_type": "code",
   "execution_count": 23,
   "id": "8761daa5",
   "metadata": {},
   "outputs": [
    {
     "data": {
      "text/plain": [
       "<surprise.prediction_algorithms.matrix_factorization.SVD at 0x1b5ac7bb5b0>"
      ]
     },
     "execution_count": 23,
     "metadata": {},
     "output_type": "execute_result"
    }
   ],
   "source": [
    "# Initialize model\n",
    "svd = SVD()\n",
    "\n",
    "# cross-validate\n",
    "svd.fit(trainset)"
   ]
  },
  {
   "cell_type": "code",
   "execution_count": 24,
   "id": "ef53e08c",
   "metadata": {},
   "outputs": [],
   "source": [
    "predictions = svd.test(testset)"
   ]
  },
  {
   "cell_type": "code",
   "execution_count": 25,
   "id": "3c8388b3",
   "metadata": {},
   "outputs": [
    {
     "name": "stdout",
     "output_type": "stream",
     "text": [
      "RMSE: 0.8570\n"
     ]
    }
   ],
   "source": [
    "rmse = accuracy.rmse(predictions)"
   ]
  },
  {
   "cell_type": "code",
   "execution_count": 26,
   "id": "b26952f9",
   "metadata": {},
   "outputs": [
    {
     "name": "stdout",
     "output_type": "stream",
     "text": [
      "MAE:  0.6721\n"
     ]
    }
   ],
   "source": [
    "mae = accuracy.mae(predictions)"
   ]
  },
  {
   "cell_type": "code",
   "execution_count": 27,
   "id": "1d8c518f",
   "metadata": {},
   "outputs": [
    {
     "data": {
      "text/html": [
       "<div>\n",
       "<style scoped>\n",
       "    .dataframe tbody tr th:only-of-type {\n",
       "        vertical-align: middle;\n",
       "    }\n",
       "\n",
       "    .dataframe tbody tr th {\n",
       "        vertical-align: top;\n",
       "    }\n",
       "\n",
       "    .dataframe thead th {\n",
       "        text-align: right;\n",
       "    }\n",
       "</style>\n",
       "<table border=\"1\" class=\"dataframe\">\n",
       "  <thead>\n",
       "    <tr style=\"text-align: right;\">\n",
       "      <th></th>\n",
       "      <th>user_id</th>\n",
       "      <th>movie_id</th>\n",
       "      <th>rating</th>\n",
       "      <th>timestamp</th>\n",
       "      <th>title</th>\n",
       "      <th>genre</th>\n",
       "    </tr>\n",
       "  </thead>\n",
       "  <tbody>\n",
       "    <tr>\n",
       "      <th>853878</th>\n",
       "      <td>2718</td>\n",
       "      <td>356</td>\n",
       "      <td>5</td>\n",
       "      <td>973286221</td>\n",
       "      <td>Forrest Gump (1994)</td>\n",
       "      <td>Comedy|Romance|War</td>\n",
       "    </tr>\n",
       "    <tr>\n",
       "      <th>515398</th>\n",
       "      <td>4006</td>\n",
       "      <td>1909</td>\n",
       "      <td>3</td>\n",
       "      <td>965552385</td>\n",
       "      <td>X-Files: Fight the Future, The (1998)</td>\n",
       "      <td>Mystery|Sci-Fi|Thriller</td>\n",
       "    </tr>\n",
       "    <tr>\n",
       "      <th>316227</th>\n",
       "      <td>307</td>\n",
       "      <td>916</td>\n",
       "      <td>5</td>\n",
       "      <td>976486086</td>\n",
       "      <td>Roman Holiday (1953)</td>\n",
       "      <td>Comedy|Romance</td>\n",
       "    </tr>\n",
       "    <tr>\n",
       "      <th>407433</th>\n",
       "      <td>2010</td>\n",
       "      <td>1920</td>\n",
       "      <td>2</td>\n",
       "      <td>974677856</td>\n",
       "      <td>Small Soldiers (1998)</td>\n",
       "      <td>Animation|Children's|Fantasy|War</td>\n",
       "    </tr>\n",
       "    <tr>\n",
       "      <th>941383</th>\n",
       "      <td>1528</td>\n",
       "      <td>1994</td>\n",
       "      <td>5</td>\n",
       "      <td>974745349</td>\n",
       "      <td>Poltergeist (1982)</td>\n",
       "      <td>Horror|Thriller</td>\n",
       "    </tr>\n",
       "    <tr>\n",
       "      <th>258695</th>\n",
       "      <td>4250</td>\n",
       "      <td>1954</td>\n",
       "      <td>3</td>\n",
       "      <td>965308398</td>\n",
       "      <td>Rocky (1976)</td>\n",
       "      <td>Action|Drama</td>\n",
       "    </tr>\n",
       "    <tr>\n",
       "      <th>73018</th>\n",
       "      <td>2124</td>\n",
       "      <td>3763</td>\n",
       "      <td>5</td>\n",
       "      <td>974650999</td>\n",
       "      <td>F/X (1986)</td>\n",
       "      <td>Action|Crime|Thriller</td>\n",
       "    </tr>\n",
       "    <tr>\n",
       "      <th>915870</th>\n",
       "      <td>3565</td>\n",
       "      <td>172</td>\n",
       "      <td>4</td>\n",
       "      <td>966781319</td>\n",
       "      <td>Johnny Mnemonic (1995)</td>\n",
       "      <td>Action|Sci-Fi|Thriller</td>\n",
       "    </tr>\n",
       "    <tr>\n",
       "      <th>363964</th>\n",
       "      <td>4813</td>\n",
       "      <td>1441</td>\n",
       "      <td>4</td>\n",
       "      <td>978218369</td>\n",
       "      <td>Benny &amp; Joon (1993)</td>\n",
       "      <td>Comedy|Romance</td>\n",
       "    </tr>\n",
       "    <tr>\n",
       "      <th>283405</th>\n",
       "      <td>3531</td>\n",
       "      <td>1238</td>\n",
       "      <td>5</td>\n",
       "      <td>966997649</td>\n",
       "      <td>Local Hero (1983)</td>\n",
       "      <td>Comedy</td>\n",
       "    </tr>\n",
       "  </tbody>\n",
       "</table>\n",
       "</div>"
      ],
      "text/plain": [
       "        user_id  movie_id  rating  timestamp  \\\n",
       "853878     2718       356       5  973286221   \n",
       "515398     4006      1909       3  965552385   \n",
       "316227      307       916       5  976486086   \n",
       "407433     2010      1920       2  974677856   \n",
       "941383     1528      1994       5  974745349   \n",
       "258695     4250      1954       3  965308398   \n",
       "73018      2124      3763       5  974650999   \n",
       "915870     3565       172       4  966781319   \n",
       "363964     4813      1441       4  978218369   \n",
       "283405     3531      1238       5  966997649   \n",
       "\n",
       "                                        title  \\\n",
       "853878                    Forrest Gump (1994)   \n",
       "515398  X-Files: Fight the Future, The (1998)   \n",
       "316227                   Roman Holiday (1953)   \n",
       "407433                  Small Soldiers (1998)   \n",
       "941383                     Poltergeist (1982)   \n",
       "258695                           Rocky (1976)   \n",
       "73018                              F/X (1986)   \n",
       "915870                 Johnny Mnemonic (1995)   \n",
       "363964                    Benny & Joon (1993)   \n",
       "283405                      Local Hero (1983)   \n",
       "\n",
       "                                   genre  \n",
       "853878                Comedy|Romance|War  \n",
       "515398           Mystery|Sci-Fi|Thriller  \n",
       "316227                    Comedy|Romance  \n",
       "407433  Animation|Children's|Fantasy|War  \n",
       "941383                   Horror|Thriller  \n",
       "258695                      Action|Drama  \n",
       "73018              Action|Crime|Thriller  \n",
       "915870            Action|Sci-Fi|Thriller  \n",
       "363964                    Comedy|Romance  \n",
       "283405                            Comedy  "
      ]
     },
     "execution_count": 27,
     "metadata": {},
     "output_type": "execute_result"
    }
   ],
   "source": [
    "df.sample(10)"
   ]
  },
  {
   "cell_type": "code",
   "execution_count": 28,
   "id": "03aab15b",
   "metadata": {},
   "outputs": [
    {
     "data": {
      "text/plain": [
       "Prediction(uid=3565, iid='Forrest Gump (1994)', r_ui=3.0, est=4.052774735722321, details={'was_impossible': False})"
      ]
     },
     "execution_count": 28,
     "metadata": {},
     "output_type": "execute_result"
    }
   ],
   "source": [
    "svd.predict(uid=3565,iid='Forrest Gump (1994)',r_ui=3.0)"
   ]
  },
  {
   "cell_type": "code",
   "execution_count": 29,
   "id": "515f6d53",
   "metadata": {},
   "outputs": [],
   "source": [
    "def get_recommendations(data, user_id, top_n, algo):\n",
    "    \n",
    "    # creating an empty list to store the recommended product ids\n",
    "    recommendations = []\n",
    "    \n",
    "    # creating an user item interactions matrix \n",
    "    user_movie_interactions_matrix = data.pivot(index='user_id', columns='title', values='rating')\n",
    "    \n",
    "    # extracting those product names which the user_id has not interacted yet\n",
    "    non_interacted_movies = user_movie_interactions_matrix.loc[user_id][user_movie_interactions_matrix.loc[user_id].isnull()].index.tolist()\n",
    "    \n",
    "    # looping through each of the product names which user_id has not interacted yet\n",
    "    for item_name in non_interacted_movies:\n",
    "        \n",
    "        # predicting the ratings for those non interacted product ids by this user\n",
    "        est = algo.predict(user_id, item_name).est\n",
    "        \n",
    "        # appending the predicted ratings\n",
    "        #movie_name = movies[movies['movie_id']==str(item_id)]['title'].values[0]\n",
    "        recommendations.append((item_name, est))\n",
    "\n",
    "    # sorting the predicted ratings in descending order\n",
    "    recommendations.sort(key=lambda x: x[1], reverse=True)\n",
    "    #print(recommendations)\n",
    "    return recommendations[:top_n] # returing top n highest predicted rating products for this user"
   ]
  },
  {
   "cell_type": "code",
   "execution_count": 30,
   "id": "a2b8fbcf",
   "metadata": {},
   "outputs": [
    {
     "data": {
      "text/plain": [
       "[('Citizen Kane (1941)', 4.699716508462726),\n",
       " ('Lawrence of Arabia (1962)', 4.445385472709563),\n",
       " ('Rear Window (1954)', 4.295477822069641),\n",
       " ('Chinatown (1974)', 4.248169253997325),\n",
       " ('Brazil (1985)', 4.175378270191173),\n",
       " ('Shining, The (1980)', 4.168591789489589),\n",
       " ('This Is Spinal Tap (1984)', 4.1658912897092195),\n",
       " ('Jean de Florette (1986)', 4.148078913074392),\n",
       " ('Graduate, The (1967)', 4.10094413621979),\n",
       " ('Bridge on the River Kwai, The (1957)', 4.091043725749235)]"
      ]
     },
     "execution_count": 30,
     "metadata": {},
     "output_type": "execute_result"
    }
   ],
   "source": [
    "get_recommendations(data=df, user_id=2010, top_n=10, algo=svd)"
   ]
  },
  {
   "cell_type": "code",
   "execution_count": 31,
   "id": "862aa0ba",
   "metadata": {},
   "outputs": [],
   "source": [
    "from surprise import dump"
   ]
  },
  {
   "cell_type": "code",
   "execution_count": 32,
   "id": "3ef06cb3",
   "metadata": {},
   "outputs": [],
   "source": [
    "dump.dump('svd_model.pkl', algo=svd)"
   ]
  },
  {
   "cell_type": "code",
   "execution_count": 39,
   "id": "4c110f79",
   "metadata": {},
   "outputs": [],
   "source": [
    "# Load the trained SVD model from the file\n",
    "loaded_model = dump.load('svd_model.pkl')\n",
    "\n",
    "# Access the loaded model\n",
    "svd_model = loaded_model[1]"
   ]
  },
  {
   "cell_type": "code",
   "execution_count": 40,
   "id": "a133597c",
   "metadata": {},
   "outputs": [
    {
     "data": {
      "text/plain": [
       "Prediction(uid=3565, iid='Forrest Gump (1994)', r_ui=3.0, est=4.052774735722321, details={'was_impossible': False})"
      ]
     },
     "execution_count": 40,
     "metadata": {},
     "output_type": "execute_result"
    }
   ],
   "source": [
    "svd_model.predict(uid=3565,iid='Forrest Gump (1994)',r_ui=3.0)"
   ]
  },
  {
   "cell_type": "code",
   "execution_count": null,
   "id": "7ab818ab",
   "metadata": {},
   "outputs": [],
   "source": []
  }
 ],
 "metadata": {
  "kernelspec": {
   "display_name": "Python 3 (ipykernel)",
   "language": "python",
   "name": "python3"
  },
  "language_info": {
   "codemirror_mode": {
    "name": "ipython",
    "version": 3
   },
   "file_extension": ".py",
   "mimetype": "text/x-python",
   "name": "python",
   "nbconvert_exporter": "python",
   "pygments_lexer": "ipython3",
   "version": "3.9.12"
  }
 },
 "nbformat": 4,
 "nbformat_minor": 5
}
