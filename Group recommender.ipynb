{
 "cells": [
  {
   "cell_type": "code",
   "execution_count": 47,
   "id": "f4a3b8ad",
   "metadata": {},
   "outputs": [],
   "source": [
    "import pandas as pd\n",
    "import numpy as np"
   ]
  },
  {
   "cell_type": "code",
   "execution_count": 48,
   "id": "cdbc659c",
   "metadata": {},
   "outputs": [
    {
     "data": {
      "text/html": [
       "<div>\n",
       "<style scoped>\n",
       "    .dataframe tbody tr th:only-of-type {\n",
       "        vertical-align: middle;\n",
       "    }\n",
       "\n",
       "    .dataframe tbody tr th {\n",
       "        vertical-align: top;\n",
       "    }\n",
       "\n",
       "    .dataframe thead th {\n",
       "        text-align: right;\n",
       "    }\n",
       "</style>\n",
       "<table border=\"1\" class=\"dataframe\">\n",
       "  <thead>\n",
       "    <tr style=\"text-align: right;\">\n",
       "      <th></th>\n",
       "      <th>user_id</th>\n",
       "      <th>movie_id</th>\n",
       "      <th>rating</th>\n",
       "      <th>timestamp</th>\n",
       "      <th>title</th>\n",
       "      <th>genre</th>\n",
       "    </tr>\n",
       "  </thead>\n",
       "  <tbody>\n",
       "    <tr>\n",
       "      <th>0</th>\n",
       "      <td>5755</td>\n",
       "      <td>184</td>\n",
       "      <td>3</td>\n",
       "      <td>958280246</td>\n",
       "      <td>Nadja (1994)</td>\n",
       "      <td>Drama</td>\n",
       "    </tr>\n",
       "    <tr>\n",
       "      <th>1</th>\n",
       "      <td>4585</td>\n",
       "      <td>519</td>\n",
       "      <td>3</td>\n",
       "      <td>964321944</td>\n",
       "      <td>Robocop 3 (1993)</td>\n",
       "      <td>Sci-Fi|Thriller</td>\n",
       "    </tr>\n",
       "    <tr>\n",
       "      <th>2</th>\n",
       "      <td>1503</td>\n",
       "      <td>3114</td>\n",
       "      <td>4</td>\n",
       "      <td>974762175</td>\n",
       "      <td>Toy Story 2 (1999)</td>\n",
       "      <td>Animation|Children's|Comedy</td>\n",
       "    </tr>\n",
       "    <tr>\n",
       "      <th>3</th>\n",
       "      <td>2166</td>\n",
       "      <td>648</td>\n",
       "      <td>4</td>\n",
       "      <td>974614593</td>\n",
       "      <td>Mission: Impossible (1996)</td>\n",
       "      <td>Action|Adventure|Mystery</td>\n",
       "    </tr>\n",
       "    <tr>\n",
       "      <th>4</th>\n",
       "      <td>3201</td>\n",
       "      <td>2178</td>\n",
       "      <td>5</td>\n",
       "      <td>968626301</td>\n",
       "      <td>Frenzy (1972)</td>\n",
       "      <td>Thriller</td>\n",
       "    </tr>\n",
       "  </tbody>\n",
       "</table>\n",
       "</div>"
      ],
      "text/plain": [
       "   user_id  movie_id  rating  timestamp                       title  \\\n",
       "0     5755       184       3  958280246                Nadja (1994)   \n",
       "1     4585       519       3  964321944            Robocop 3 (1993)   \n",
       "2     1503      3114       4  974762175          Toy Story 2 (1999)   \n",
       "3     2166       648       4  974614593  Mission: Impossible (1996)   \n",
       "4     3201      2178       5  968626301               Frenzy (1972)   \n",
       "\n",
       "                         genre  \n",
       "0                        Drama  \n",
       "1              Sci-Fi|Thriller  \n",
       "2  Animation|Children's|Comedy  \n",
       "3     Action|Adventure|Mystery  \n",
       "4                     Thriller  "
      ]
     },
     "execution_count": 48,
     "metadata": {},
     "output_type": "execute_result"
    }
   ],
   "source": [
    "df=pd.read_csv('movielens.csv')\n",
    "df.head()"
   ]
  },
  {
   "cell_type": "code",
   "execution_count": 49,
   "id": "ae98a8ce",
   "metadata": {},
   "outputs": [
    {
     "data": {
      "text/plain": [
       "(1000209, 6)"
      ]
     },
     "execution_count": 49,
     "metadata": {},
     "output_type": "execute_result"
    }
   ],
   "source": [
    "df.shape"
   ]
  },
  {
   "cell_type": "code",
   "execution_count": 50,
   "id": "89b9f728",
   "metadata": {},
   "outputs": [],
   "source": [
    "# ratings_per_reviewer = df.groupby('user_id').size()\n",
    "\n",
    "# # Get the reviewer IDs that have given at least 50 ratings\n",
    "# reviewer_ids = ratings_per_reviewer[ratings_per_reviewer >= 50].index\n",
    "\n",
    "# # Filter the dataset to only include reviewers with at least 50 ratings\n",
    "# df = df[df['user_id'].isin(reviewer_ids)]"
   ]
  },
  {
   "cell_type": "code",
   "execution_count": 51,
   "id": "9073f19e",
   "metadata": {},
   "outputs": [
    {
     "data": {
      "text/plain": [
       "(1000209, 6)"
      ]
     },
     "execution_count": 51,
     "metadata": {},
     "output_type": "execute_result"
    }
   ],
   "source": [
    "df.shape"
   ]
  },
  {
   "cell_type": "code",
   "execution_count": 52,
   "id": "fa988133",
   "metadata": {},
   "outputs": [],
   "source": [
    "# ratings_per_movie = df.groupby('title').size()\n",
    "\n",
    "# # Get the movie names that have received at least 200 ratings\n",
    "# movie_ids = ratings_per_movie[ratings_per_movie >= 200].index\n",
    "\n",
    "# # Filter the dataset to only include movies with at least 200 ratings\n",
    "# df = df[df['title'].isin(movie_ids)]"
   ]
  },
  {
   "cell_type": "code",
   "execution_count": 53,
   "id": "b89440ed",
   "metadata": {},
   "outputs": [
    {
     "data": {
      "text/plain": [
       "(1000209, 6)"
      ]
     },
     "execution_count": 53,
     "metadata": {},
     "output_type": "execute_result"
    }
   ],
   "source": [
    "df.shape"
   ]
  },
  {
   "cell_type": "code",
   "execution_count": 54,
   "id": "4e1720f4",
   "metadata": {},
   "outputs": [],
   "source": [
    "from surprise import Dataset, Reader\n",
    "from surprise.prediction_algorithms.matrix_factorization import SVD\n",
    "from surprise import accuracy\n",
    "from surprise.model_selection import train_test_split"
   ]
  },
  {
   "cell_type": "code",
   "execution_count": 55,
   "id": "f5a99d00",
   "metadata": {},
   "outputs": [],
   "source": [
    "# Initialize a surprise reader object\n",
    "reader = Reader(line_format='user item rating', sep=',', rating_scale=(0,5), skip_lines=1)\n",
    "\n",
    "# Load the data\n",
    "#data = Dataset.load_from_df(df[['user_id','movie_id','rating']], reader=reader)\n",
    "data = Dataset.load_from_df(df[['user_id','title','rating']], reader=reader)\n",
    "\n",
    "# Build trainset object(perform this only when you are using whole dataset to train)\n",
    "#trainset = data.build_full_trainset()\n",
    "\n",
    "trainset, testset = train_test_split(data, test_size=0.2)"
   ]
  },
  {
   "cell_type": "code",
   "execution_count": 56,
   "id": "8761daa5",
   "metadata": {},
   "outputs": [
    {
     "data": {
      "text/plain": [
       "<surprise.prediction_algorithms.matrix_factorization.SVD at 0x1b5dca07bb0>"
      ]
     },
     "execution_count": 56,
     "metadata": {},
     "output_type": "execute_result"
    }
   ],
   "source": [
    "# Initialize model\n",
    "svd = SVD()\n",
    "\n",
    "# cross-validate\n",
    "svd.fit(trainset)"
   ]
  },
  {
   "cell_type": "code",
   "execution_count": 57,
   "id": "ef53e08c",
   "metadata": {},
   "outputs": [],
   "source": [
    "predictions = svd.test(testset)"
   ]
  },
  {
   "cell_type": "code",
   "execution_count": 58,
   "id": "3c8388b3",
   "metadata": {},
   "outputs": [
    {
     "name": "stdout",
     "output_type": "stream",
     "text": [
      "RMSE: 0.8754\n"
     ]
    }
   ],
   "source": [
    "rmse = accuracy.rmse(predictions)"
   ]
  },
  {
   "cell_type": "code",
   "execution_count": 59,
   "id": "b26952f9",
   "metadata": {},
   "outputs": [
    {
     "name": "stdout",
     "output_type": "stream",
     "text": [
      "MAE:  0.6881\n"
     ]
    }
   ],
   "source": [
    "mae = accuracy.mae(predictions)"
   ]
  },
  {
   "cell_type": "code",
   "execution_count": 60,
   "id": "1d8c518f",
   "metadata": {},
   "outputs": [
    {
     "data": {
      "text/html": [
       "<div>\n",
       "<style scoped>\n",
       "    .dataframe tbody tr th:only-of-type {\n",
       "        vertical-align: middle;\n",
       "    }\n",
       "\n",
       "    .dataframe tbody tr th {\n",
       "        vertical-align: top;\n",
       "    }\n",
       "\n",
       "    .dataframe thead th {\n",
       "        text-align: right;\n",
       "    }\n",
       "</style>\n",
       "<table border=\"1\" class=\"dataframe\">\n",
       "  <thead>\n",
       "    <tr style=\"text-align: right;\">\n",
       "      <th></th>\n",
       "      <th>user_id</th>\n",
       "      <th>movie_id</th>\n",
       "      <th>rating</th>\n",
       "      <th>timestamp</th>\n",
       "      <th>title</th>\n",
       "      <th>genre</th>\n",
       "    </tr>\n",
       "  </thead>\n",
       "  <tbody>\n",
       "    <tr>\n",
       "      <th>763883</th>\n",
       "      <td>1699</td>\n",
       "      <td>187</td>\n",
       "      <td>3</td>\n",
       "      <td>974712584</td>\n",
       "      <td>Party Girl (1995)</td>\n",
       "      <td>Comedy</td>\n",
       "    </tr>\n",
       "    <tr>\n",
       "      <th>501383</th>\n",
       "      <td>4808</td>\n",
       "      <td>2289</td>\n",
       "      <td>3</td>\n",
       "      <td>963028615</td>\n",
       "      <td>Player, The (1992)</td>\n",
       "      <td>Comedy|Drama</td>\n",
       "    </tr>\n",
       "    <tr>\n",
       "      <th>720598</th>\n",
       "      <td>3836</td>\n",
       "      <td>913</td>\n",
       "      <td>5</td>\n",
       "      <td>965928859</td>\n",
       "      <td>Maltese Falcon, The (1941)</td>\n",
       "      <td>Film-Noir|Mystery</td>\n",
       "    </tr>\n",
       "    <tr>\n",
       "      <th>701810</th>\n",
       "      <td>4169</td>\n",
       "      <td>1077</td>\n",
       "      <td>5</td>\n",
       "      <td>967164532</td>\n",
       "      <td>Sleeper (1973)</td>\n",
       "      <td>Comedy|Sci-Fi</td>\n",
       "    </tr>\n",
       "    <tr>\n",
       "      <th>389250</th>\n",
       "      <td>1117</td>\n",
       "      <td>372</td>\n",
       "      <td>4</td>\n",
       "      <td>1001081946</td>\n",
       "      <td>Reality Bites (1994)</td>\n",
       "      <td>Comedy|Drama</td>\n",
       "    </tr>\n",
       "    <tr>\n",
       "      <th>174534</th>\n",
       "      <td>2700</td>\n",
       "      <td>2338</td>\n",
       "      <td>1</td>\n",
       "      <td>973304998</td>\n",
       "      <td>I Still Know What You Did Last Summer (1998)</td>\n",
       "      <td>Horror|Mystery|Thriller</td>\n",
       "    </tr>\n",
       "    <tr>\n",
       "      <th>137640</th>\n",
       "      <td>3394</td>\n",
       "      <td>1921</td>\n",
       "      <td>4</td>\n",
       "      <td>967492495</td>\n",
       "      <td>Pi (1998)</td>\n",
       "      <td>Sci-Fi|Thriller</td>\n",
       "    </tr>\n",
       "    <tr>\n",
       "      <th>450959</th>\n",
       "      <td>1896</td>\n",
       "      <td>954</td>\n",
       "      <td>4</td>\n",
       "      <td>975273128</td>\n",
       "      <td>Mr. Smith Goes to Washington (1939)</td>\n",
       "      <td>Drama</td>\n",
       "    </tr>\n",
       "    <tr>\n",
       "      <th>844111</th>\n",
       "      <td>1101</td>\n",
       "      <td>78</td>\n",
       "      <td>2</td>\n",
       "      <td>1010864734</td>\n",
       "      <td>Crossing Guard, The (1995)</td>\n",
       "      <td>Drama</td>\n",
       "    </tr>\n",
       "    <tr>\n",
       "      <th>940704</th>\n",
       "      <td>4310</td>\n",
       "      <td>1291</td>\n",
       "      <td>4</td>\n",
       "      <td>976292145</td>\n",
       "      <td>Indiana Jones and the Last Crusade (1989)</td>\n",
       "      <td>Action|Adventure</td>\n",
       "    </tr>\n",
       "  </tbody>\n",
       "</table>\n",
       "</div>"
      ],
      "text/plain": [
       "        user_id  movie_id  rating   timestamp  \\\n",
       "763883     1699       187       3   974712584   \n",
       "501383     4808      2289       3   963028615   \n",
       "720598     3836       913       5   965928859   \n",
       "701810     4169      1077       5   967164532   \n",
       "389250     1117       372       4  1001081946   \n",
       "174534     2700      2338       1   973304998   \n",
       "137640     3394      1921       4   967492495   \n",
       "450959     1896       954       4   975273128   \n",
       "844111     1101        78       2  1010864734   \n",
       "940704     4310      1291       4   976292145   \n",
       "\n",
       "                                               title                    genre  \n",
       "763883                             Party Girl (1995)                   Comedy  \n",
       "501383                            Player, The (1992)             Comedy|Drama  \n",
       "720598                    Maltese Falcon, The (1941)        Film-Noir|Mystery  \n",
       "701810                                Sleeper (1973)            Comedy|Sci-Fi  \n",
       "389250                          Reality Bites (1994)             Comedy|Drama  \n",
       "174534  I Still Know What You Did Last Summer (1998)  Horror|Mystery|Thriller  \n",
       "137640                                     Pi (1998)          Sci-Fi|Thriller  \n",
       "450959           Mr. Smith Goes to Washington (1939)                    Drama  \n",
       "844111                    Crossing Guard, The (1995)                    Drama  \n",
       "940704     Indiana Jones and the Last Crusade (1989)         Action|Adventure  "
      ]
     },
     "execution_count": 60,
     "metadata": {},
     "output_type": "execute_result"
    }
   ],
   "source": [
    "df.sample(10)"
   ]
  },
  {
   "cell_type": "code",
   "execution_count": 81,
   "id": "03aab15b",
   "metadata": {},
   "outputs": [
    {
     "data": {
      "text/plain": [
       "Prediction(uid=3565, iid='Forrest Gump (1994)', r_ui=3.0, est=3.5717420960365143, details={'was_impossible': False})"
      ]
     },
     "execution_count": 81,
     "metadata": {},
     "output_type": "execute_result"
    }
   ],
   "source": [
    "svd.predict(uid=3565,iid='Forrest Gump (1994)',r_ui=3.0)"
   ]
  },
  {
   "cell_type": "code",
   "execution_count": 82,
   "id": "515f6d53",
   "metadata": {},
   "outputs": [],
   "source": [
    "def get_recommendations(data, user_id, top_n, algo):\n",
    "    \n",
    "    # creating an empty list to store the recommended product ids\n",
    "    recommendations = []\n",
    "    \n",
    "    # creating an user item interactions matrix \n",
    "    user_movie_interactions_matrix = data.pivot(index='user_id', columns='title', values='rating')\n",
    "    \n",
    "    # extracting those product names which the user_id has not interacted yet\n",
    "    non_interacted_movies = user_movie_interactions_matrix.loc[user_id][user_movie_interactions_matrix.loc[user_id].isnull()].index.tolist()\n",
    "    \n",
    "    # looping through each of the product names which user_id has not interacted yet\n",
    "    for item_name in non_interacted_movies:\n",
    "        \n",
    "        # predicting the ratings for those non interacted product ids by this user\n",
    "        est = algo.predict(user_id, item_name).est\n",
    "        \n",
    "        # appending the predicted ratings\n",
    "        #movie_name = movies[movies['movie_id']==str(item_id)]['title'].values[0]\n",
    "        recommendations.append((item_name, est))\n",
    "\n",
    "    # sorting the predicted ratings in descending order\n",
    "    recommendations.sort(key=lambda x: x[1], reverse=True)\n",
    "    #print(recommendations)\n",
    "    return recommendations[:top_n] # returing top n highest predicted rating products for this user"
   ]
  },
  {
   "cell_type": "code",
   "execution_count": 86,
   "id": "c92462c1",
   "metadata": {},
   "outputs": [],
   "source": [
    "def get_recommendationsX(data, user_id, top_n, algo):\n",
    "    \n",
    "    # creating an empty list to store the recommended product ids\n",
    "    recommendations = []\n",
    "    \n",
    "    # creating an user item interactions matrix \n",
    "    user_movie_interactions_matrix = data.pivot(index='user_id', columns='title', values='rating')\n",
    "    \n",
    "    # extracting those product names which the user_id has not interacted yet\n",
    "    #non_interacted_movies = user_movie_interactions_matrix.loc[user_id][user_movie_interactions_matrix.loc[user_id].isnull()].index.tolist()\n",
    "    rated_movies = set(data[data['user_id'] == user_id]['title'])\n",
    "    all_movies = set(data['title'])\n",
    "    unrated_movies = list(all_movies - rated_movies)\n",
    "    \n",
    "    # looping through each of the product names which user_id has not interacted yet\n",
    "    for item_name in unrated_movies:\n",
    "        \n",
    "        # predicting the ratings for those non interacted product ids by this user\n",
    "        est = algo.predict(user_id, item_name).est\n",
    "        \n",
    "        # appending the predicted ratings\n",
    "        #movie_name = movies[movies['movie_id']==str(item_id)]['title'].values[0]\n",
    "        recommendations.append((item_name, est))\n",
    "\n",
    "    # sorting the predicted ratings in descending order\n",
    "    recommendations.sort(key=lambda x: x[1], reverse=True)\n",
    "    #print(recommendations)\n",
    "    return recommendations[:top_n] # returing top n highest predicted rating products for this user"
   ]
  },
  {
   "cell_type": "code",
   "execution_count": 90,
   "id": "d88b406b",
   "metadata": {},
   "outputs": [
    {
     "data": {
      "text/plain": [
       "[('Seven Samurai (The Magnificent Seven) (Shichinin no samurai) (1954)', 5),\n",
       " ('Paths of Glory (1957)', 5),\n",
       " ('Duck Soup (1933)', 5),\n",
       " ('Wallace & Gromit: The Best of Aardman Animation (1996)', 5),\n",
       " ('Pather Panchali (1955)', 5),\n",
       " ('General, The (1927)', 4.978955031670398),\n",
       " ('Wrong Trousers, The (1993)', 4.934882004797087),\n",
       " ('Paradise Lost: The Child Murders at Robin Hood Hills (1996)',\n",
       "  4.919320249791686),\n",
       " ('Sanjuro (1962)', 4.9177659141327865),\n",
       " ('Grapes of Wrath, The (1940)', 4.890421219739969)]"
      ]
     },
     "execution_count": 90,
     "metadata": {},
     "output_type": "execute_result"
    }
   ],
   "source": [
    "get_recommendationsX(data=df, user_id=1699, top_n=10, algo=svd)"
   ]
  },
  {
   "cell_type": "code",
   "execution_count": 88,
   "id": "a2b8fbcf",
   "metadata": {},
   "outputs": [
    {
     "data": {
      "text/plain": [
       "[('Taxi Driver (1976)', 4.4159445396782795),\n",
       " ('Brazil (1985)', 4.390912933809539),\n",
       " ('Lawrence of Arabia (1962)', 4.341856016656698),\n",
       " ('Good, The Bad and The Ugly, The (1966)', 4.331001254599082),\n",
       " ('Requiem for a Dream (2000)', 4.23688515857849),\n",
       " ('Shining, The (1980)', 4.090353033486862),\n",
       " ('Best in Show (2000)', 4.059305259387244),\n",
       " ('Exorcist, The (1973)', 4.042957691783742),\n",
       " ('Sunset Blvd. (a.k.a. Sunset Boulevard) (1950)', 4.0338842802161805),\n",
       " ('Chinatown (1974)', 4.01043719029493)]"
      ]
     },
     "execution_count": 88,
     "metadata": {},
     "output_type": "execute_result"
    }
   ],
   "source": [
    "get_recommendations(data=df, user_id=2010, top_n=10, algo=svd)"
   ]
  },
  {
   "cell_type": "code",
   "execution_count": 64,
   "id": "862aa0ba",
   "metadata": {},
   "outputs": [],
   "source": [
    "from surprise import dump"
   ]
  },
  {
   "cell_type": "code",
   "execution_count": 65,
   "id": "3ef06cb3",
   "metadata": {},
   "outputs": [],
   "source": [
    "dump.dump('svd_model.pkl', algo=svd)"
   ]
  },
  {
   "cell_type": "code",
   "execution_count": 66,
   "id": "4c110f79",
   "metadata": {},
   "outputs": [],
   "source": [
    "# Load the trained SVD model from the file\n",
    "loaded_model = dump.load('svd_model.pkl')\n",
    "\n",
    "# Access the loaded model\n",
    "svd_model = loaded_model[1]"
   ]
  },
  {
   "cell_type": "code",
   "execution_count": 67,
   "id": "a133597c",
   "metadata": {},
   "outputs": [
    {
     "data": {
      "text/plain": [
       "Prediction(uid=3565, iid='Forrest Gump (1994)', r_ui=3.0, est=3.5717420960365143, details={'was_impossible': False})"
      ]
     },
     "execution_count": 67,
     "metadata": {},
     "output_type": "execute_result"
    }
   ],
   "source": [
    "svd_model.predict(uid=3565,iid='Forrest Gump (1994)',r_ui=3.0)"
   ]
  },
  {
   "cell_type": "markdown",
   "id": "f70c7b8c",
   "metadata": {},
   "source": [
    "# Broda Count"
   ]
  },
  {
   "cell_type": "code",
   "execution_count": 100,
   "id": "7ab818ab",
   "metadata": {},
   "outputs": [
    {
     "name": "stdout",
     "output_type": "stream",
     "text": [
      "['Seven Samurai (The Magnificent Seven) (Shichinin no samurai) (1954)', 'Paths of Glory (1957)', 'Duck Soup (1933)', 'Wallace & Gromit: The Best of Aardman Animation (1996)', 'Pather Panchali (1955)', 'Wrong Trousers, The (1993)', 'Paradise Lost: The Child Murders at Robin Hood Hills (1996)', 'Grapes of Wrath, The (1940)', 'Sanjuro (1962)', 'General, The (1927)']\n"
     ]
    }
   ],
   "source": [
    "from collections import defaultdict\n",
    "\n",
    "# Arrays representing the predicted top 10 recommended movies for 3 users\n",
    "user1 = [('Taxi Driver (1976)', 4.4159445396782795),\n",
    "         ('Brazil (1985)', 4.390912933809539),\n",
    "         ('Lawrence of Arabia (1962)', 4.341856016656698),\n",
    "         ('Good, The Bad and The Ugly, The (1966)', 4.331001254599082),\n",
    "         ('Requiem for a Dream (2000)', 4.23688515857849),\n",
    "         ('Shining, The (1980)', 4.090353033486862),\n",
    "         ('Best in Show (2000)', 4.059305259387244),\n",
    "         ('Exorcist, The (1973)', 4.042957691783742),\n",
    "         ('Sunset Blvd. (a.k.a. Sunset Boulevard) (1950)', 4.0338842802161805),\n",
    "         ('Chinatown (1974)', 4.01043719029493)]\n",
    "\n",
    "user2 = [('Sanjuro (1962)', 4.7480884622987825),\n",
    "         (\"Schindler's List (1993)\", 4.733654163468202),\n",
    "         ('Usual Suspects, The (1995)', 4.608804294265182),\n",
    "         ('General, The (1927)', 4.603545020084608),\n",
    "         ('Bridge on the River Kwai, The (1957)', 4.592910991368877),\n",
    "         ('12 Angry Men (1957)', 4.572788211305827),\n",
    "         ('Saving Private Ryan (1998)', 4.567316249661901),\n",
    "         ('Shawshank Redemption, The (1994)', 4.541116774210836),\n",
    "         ('Monty Python and the Holy Grail (1974)', 4.530737968169193),\n",
    "         ('Close Shave, A (1995)', 4.520896833727098)]\n",
    "\n",
    "user3 = [('Seven Samurai (The Magnificent Seven) (Shichinin no samurai) (1954)', 5),\n",
    "         ('Paths of Glory (1957)', 5),\n",
    "         ('Duck Soup (1933)', 5),\n",
    "         ('Wallace & Gromit: The Best of Aardman Animation (1996)', 5),\n",
    "         ('Pather Panchali (1955)', 5),\n",
    "         ('General, The (1927)', 4.978955031670398),\n",
    "         ('Wrong Trousers, The (1993)', 4.934882004797087),\n",
    "         ('Paradise Lost: The Child Murders at Robin Hood Hills (1996)', 4.919320249791686),\n",
    "         ('Sanjuro (1962)', 4.9177659141327865),\n",
    "         ('Grapes of Wrath, The (1940)', 4.890421219739969)]\n",
    "\n",
    "# Dictionary to store the total ratings for each movie\n",
    "movie_ratings = defaultdict(float)\n",
    "# Dictionary to store the number of ratings for each movie\n",
    "movie_counts = defaultdict(int)\n",
    "\n",
    "# Iterate over user1's array and aggregate the ratings\n",
    "for movie, rating in user1:\n",
    "    movie_ratings[movie] += rating\n",
    "    movie_counts[movie] += 1\n",
    "\n",
    "# Iterate over user2's array and aggregate the ratings\n",
    "for movie, rating in user2:\n",
    "    movie_ratings[movie] += rating\n",
    "    movie_counts[movie] += 1\n",
    "\n",
    "# Iterate over user3's array and aggregate the ratings\n",
    "for movie, rating in user3:\n",
    "    movie_ratings[movie] += rating\n",
    "    movie_counts[movie] += 1\n",
    "\n",
    "# Calculate the average ratings for each movie\n",
    "#print(movie_ratings)\n",
    "#print(movie_counts)\n",
    "movie_averages = {movie: movie_ratings[movie] / movie_counts[movie] for movie in movie_ratings}\n",
    "# Sort the movies based on their average ratings in descending order\n",
    "top_movies = sorted(movie_averages.items(), key=lambda x: x[1], reverse=True)\n",
    "\n",
    "# Get the top recommended movies for the combined group of three users\n",
    "top_recommendations = [movie[0] for movie in top_movies[:10]]\n",
    "\n",
    "print(top_recommendations)\n"
   ]
  },
  {
   "cell_type": "code",
   "execution_count": 102,
   "id": "e5118b55",
   "metadata": {},
   "outputs": [],
   "source": [
    "def grouprecommendations(uid1,uid2,uid3):\n",
    "    user1=get_recommendations(data=df, user_id=uid1, top_n=50, algo=svd)\n",
    "    user2=get_recommendations(data=df, user_id=uid2, top_n=50, algo=svd)\n",
    "    user3=get_recommendations(data=df, user_id=uid3, top_n=50, algo=svd)\n",
    "    movie_ratings = defaultdict(float)\n",
    "    # Dictionary to store the number of ratings for each movie\n",
    "    movie_counts = defaultdict(int)\n",
    "\n",
    "    # Iterate over user1's array and aggregate the ratings\n",
    "    for movie, rating in user1:\n",
    "        movie_ratings[movie] += rating\n",
    "        movie_counts[movie] += 1\n",
    "\n",
    "    # Iterate over user2's array and aggregate the ratings\n",
    "    for movie, rating in user2:\n",
    "        movie_ratings[movie] += rating\n",
    "        movie_counts[movie] += 1\n",
    "\n",
    "    # Iterate over user3's array and aggregate the ratings\n",
    "    for movie, rating in user3:\n",
    "        movie_ratings[movie] += rating\n",
    "        movie_counts[movie] += 1\n",
    "\n",
    "    # Calculate the average ratings for each movie\n",
    "    #print(movie_ratings)\n",
    "    #print(movie_counts)\n",
    "    movie_averages = {movie: movie_ratings[movie] / movie_counts[movie] for movie in movie_ratings}\n",
    "    # Sort the movies based on their average ratings in descending order\n",
    "    top_movies = sorted(movie_averages.items(), key=lambda x: x[1], reverse=True)\n",
    "\n",
    "    # Get the top recommended movies for the combined group of three users\n",
    "    top_recommendations = [movie[0] for movie in top_movies[:10]]\n",
    "    return top_recommendations\n",
    "    "
   ]
  },
  {
   "cell_type": "code",
   "execution_count": 103,
   "id": "34fd508a",
   "metadata": {},
   "outputs": [
    {
     "data": {
      "text/plain": [
       "['Fargo (1996)',\n",
       " 'Shawshank Redemption, The (1994)',\n",
       " 'Dersu Uzala (1974)',\n",
       " 'Raising Arizona (1987)',\n",
       " 'GoodFellas (1990)',\n",
       " 'Deer Hunter, The (1978)',\n",
       " \"I'm the One That I Want (2000)\",\n",
       " 'World of Apu, The (Apur Sansar) (1959)',\n",
       " 'Roman Holiday (1953)',\n",
       " 'Butch Cassidy and the Sundance Kid (1969)']"
      ]
     },
     "execution_count": 103,
     "metadata": {},
     "output_type": "execute_result"
    }
   ],
   "source": [
    "grouprecommendations(5755,4585,1503)"
   ]
  },
  {
   "cell_type": "code",
   "execution_count": 104,
   "id": "bb448ec4",
   "metadata": {},
   "outputs": [
    {
     "data": {
      "text/plain": [
       "['Fargo (1996)',\n",
       " 'Manchurian Candidate, The (1962)',\n",
       " 'Raising Arizona (1987)',\n",
       " 'GoodFellas (1990)',\n",
       " 'Celebration, The (Festen) (1998)',\n",
       " 'Love and Death (1975)',\n",
       " 'Producers, The (1968)',\n",
       " 'Iron Giant, The (1999)',\n",
       " 'World of Apu, The (Apur Sansar) (1959)',\n",
       " 'Good, The Bad and The Ugly, The (1966)']"
      ]
     },
     "execution_count": 104,
     "metadata": {},
     "output_type": "execute_result"
    }
   ],
   "source": [
    "grouprecommendations(5755,1117,1503)"
   ]
  },
  {
   "cell_type": "code",
   "execution_count": 105,
   "id": "44d1dc1b",
   "metadata": {},
   "outputs": [
    {
     "data": {
      "text/plain": [
       "['Pulp Fiction (1994)',\n",
       " 'General, The (1927)',\n",
       " 'Shawshank Redemption, The (1994)',\n",
       " 'GoodFellas (1990)',\n",
       " 'Maltese Falcon, The (1941)',\n",
       " 'Waiting for Guffman (1996)',\n",
       " 'Close Shave, A (1995)',\n",
       " 'Deer Hunter, The (1978)',\n",
       " '400 Blows, The (Les Quatre cents coups) (1959)',\n",
       " 'Palm Beach Story, The (1942)']"
      ]
     },
     "execution_count": 105,
     "metadata": {},
     "output_type": "execute_result"
    }
   ],
   "source": [
    "grouprecommendations(2166,4585,1602)"
   ]
  },
  {
   "cell_type": "code",
   "execution_count": null,
   "id": "72a22f85",
   "metadata": {},
   "outputs": [],
   "source": []
  }
 ],
 "metadata": {
  "kernelspec": {
   "display_name": "Python 3 (ipykernel)",
   "language": "python",
   "name": "python3"
  },
  "language_info": {
   "codemirror_mode": {
    "name": "ipython",
    "version": 3
   },
   "file_extension": ".py",
   "mimetype": "text/x-python",
   "name": "python",
   "nbconvert_exporter": "python",
   "pygments_lexer": "ipython3",
   "version": "3.9.12"
  }
 },
 "nbformat": 4,
 "nbformat_minor": 5
}
