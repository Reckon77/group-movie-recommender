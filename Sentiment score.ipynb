{
 "cells": [
  {
   "cell_type": "code",
   "execution_count": 1,
   "id": "4d85d9a5",
   "metadata": {},
   "outputs": [],
   "source": [
    "import pandas as pd\n",
    "import pickle\n",
    "import nltk\n",
    "import re\n",
    "from nltk.corpus import stopwords\n",
    "from nltk.tokenize import word_tokenize\n",
    "from bs4 import BeautifulSoup\n",
    "from nltk.stem import WordNetLemmatizer\n",
    "import contractions\n",
    "import numpy as np"
   ]
  },
  {
   "cell_type": "code",
   "execution_count": 2,
   "id": "b95e98ed",
   "metadata": {},
   "outputs": [],
   "source": [
    "tfidf = pickle.load(open('vectorizer1.pkl','rb'))\n",
    "clf = pickle.load(open('modelc.pkl','rb'))"
   ]
  },
  {
   "cell_type": "code",
   "execution_count": 3,
   "id": "a49e79cd",
   "metadata": {},
   "outputs": [],
   "source": [
    "def return_prob(text):\n",
    "    soup = BeautifulSoup(text, 'html.parser')\n",
    "    text=soup.get_text()\n",
    "    text = contractions.fix(text)\n",
    "    emoticons = re.findall('(?::|;|=)(?:-)?(?:\\)|\\(|D|P)',\n",
    "                           text)\n",
    "    text = (re.sub('[\\W]+', ' ', text.lower()) +\n",
    "            ' '.join(emoticons).replace('-', ''))\n",
    "    tokens = word_tokenize(text.lower())\n",
    "\n",
    "    # Remove stop words\n",
    "    stop_words = set(stopwords.words('english'))\n",
    "    filtered_tokens = [token for token in tokens if token not in stop_words]\n",
    "\n",
    "    # Lemmatize the remaining words\n",
    "    lemmatizer = WordNetLemmatizer()\n",
    "    lemmatized_tokens = [lemmatizer.lemmatize(token) for token in filtered_tokens]\n",
    "\n",
    "    # Join the lemmatized tokens back into a single string\n",
    "    text = ' '.join(lemmatized_tokens)\n",
    "    vec=[]\n",
    "    vec.append(text)\n",
    "    vector=tfidf.transform(vec)\n",
    "    sentiment_prob = clf.predict_proba(vector)[:, 1][0]\n",
    "    vec.clear()\n",
    "    return sentiment_prob"
   ]
  },
  {
   "cell_type": "code",
   "execution_count": 4,
   "id": "249476de",
   "metadata": {},
   "outputs": [
    {
     "data": {
      "text/plain": [
       "0.9986640696080435"
      ]
     },
     "execution_count": 4,
     "metadata": {},
     "output_type": "execute_result"
    }
   ],
   "source": [
    "return_prob(\"Wonderful movie of all time\")"
   ]
  },
  {
   "cell_type": "code",
   "execution_count": 5,
   "id": "7925077d",
   "metadata": {},
   "outputs": [],
   "source": [
    "from tmdbv3api import TMDb\n",
    "from tmdbv3api import Movie\n",
    "\n",
    "# Replace 'YOUR_API_KEY' with your actual TMDb API key\n",
    "tmdb = TMDb()\n",
    "tmdb.api_key = 'f03abce17e11e695cce8ce75b3d4348d'"
   ]
  },
  {
   "cell_type": "code",
   "execution_count": 6,
   "id": "156a3588",
   "metadata": {},
   "outputs": [],
   "source": [
    "movie = Movie()"
   ]
  },
  {
   "cell_type": "code",
   "execution_count": 16,
   "id": "7243f037",
   "metadata": {},
   "outputs": [],
   "source": [
    "def getSentiment(title):\n",
    "    allreviews=[]\n",
    "    title = title.split('(')[0].strip()\n",
    "    results = movie.search(title)\n",
    "    if len(results) > 0:\n",
    "        # Get the first search result\n",
    "        movie_id = results[0].id\n",
    "        reviews = movie.reviews(movie_id)\n",
    "        for review in reviews:\n",
    "            allreviews.append(review.content)\n",
    "    else:\n",
    "        return 0\n",
    "    sum=0\n",
    "    try:\n",
    "        if len(allreviews)>10:\n",
    "            allreviews=allreviews[:10]\n",
    "        for i in allreviews:\n",
    "            sum = sum+return_prob(i)\n",
    "        score=sum/len(allreviews)\n",
    "        return score\n",
    "    except:\n",
    "        return 0\n",
    "    \n",
    "    "
   ]
  },
  {
   "cell_type": "code",
   "execution_count": 23,
   "id": "49417589",
   "metadata": {},
   "outputs": [
    {
     "data": {
      "text/plain": [
       "0.6323236492061749"
      ]
     },
     "execution_count": 23,
     "metadata": {},
     "output_type": "execute_result"
    }
   ],
   "source": [
    "getSentiment('Crocodile Dundee (1986)')"
   ]
  },
  {
   "cell_type": "code",
   "execution_count": null,
   "id": "d25347bd",
   "metadata": {},
   "outputs": [],
   "source": []
  }
 ],
 "metadata": {
  "kernelspec": {
   "display_name": "Python 3 (ipykernel)",
   "language": "python",
   "name": "python3"
  },
  "language_info": {
   "codemirror_mode": {
    "name": "ipython",
    "version": 3
   },
   "file_extension": ".py",
   "mimetype": "text/x-python",
   "name": "python",
   "nbconvert_exporter": "python",
   "pygments_lexer": "ipython3",
   "version": "3.9.12"
  }
 },
 "nbformat": 4,
 "nbformat_minor": 5
}
