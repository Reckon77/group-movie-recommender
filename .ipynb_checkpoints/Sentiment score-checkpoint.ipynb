{
 "cells": [
  {
   "cell_type": "code",
   "execution_count": 1,
   "id": "4d85d9a5",
   "metadata": {},
   "outputs": [],
   "source": [
    "import pandas as pd\n",
    "import pickle\n",
    "import nltk\n",
    "import re\n",
    "from nltk.corpus import stopwords\n",
    "from nltk.tokenize import word_tokenize\n",
    "from bs4 import BeautifulSoup\n",
    "from nltk.stem import WordNetLemmatizer\n",
    "import contractions\n",
    "import numpy as np"
   ]
  },
  {
   "cell_type": "code",
   "execution_count": 16,
   "id": "6493cb5c",
   "metadata": {},
   "outputs": [
    {
     "data": {
      "text/html": [
       "<div>\n",
       "<style scoped>\n",
       "    .dataframe tbody tr th:only-of-type {\n",
       "        vertical-align: middle;\n",
       "    }\n",
       "\n",
       "    .dataframe tbody tr th {\n",
       "        vertical-align: top;\n",
       "    }\n",
       "\n",
       "    .dataframe thead th {\n",
       "        text-align: right;\n",
       "    }\n",
       "</style>\n",
       "<table border=\"1\" class=\"dataframe\">\n",
       "  <thead>\n",
       "    <tr style=\"text-align: right;\">\n",
       "      <th></th>\n",
       "      <th>movie</th>\n",
       "      <th>review_detail</th>\n",
       "    </tr>\n",
       "  </thead>\n",
       "  <tbody>\n",
       "    <tr>\n",
       "      <th>20831</th>\n",
       "      <td>Buffet froid (1979)</td>\n",
       "      <td>[\"The gloriously gifted, genre iconoclast, Ber...</td>\n",
       "    </tr>\n",
       "    <tr>\n",
       "      <th>94621</th>\n",
       "      <td>Platinum Blonde (1931)</td>\n",
       "      <td>[\"Jean Harlow got to do something I think was ...</td>\n",
       "    </tr>\n",
       "    <tr>\n",
       "      <th>49917</th>\n",
       "      <td>Gracie's Choice (2004 TV Movie)</td>\n",
       "      <td>[\"have it on now this snowy fri in dec ny-nj a...</td>\n",
       "    </tr>\n",
       "    <tr>\n",
       "      <th>94104</th>\n",
       "      <td>Pick of the Litter (2019– )</td>\n",
       "      <td>['Very interesting show. Makes you appreciate ...</td>\n",
       "    </tr>\n",
       "    <tr>\n",
       "      <th>144002</th>\n",
       "      <td>Thirteen (2016)</td>\n",
       "      <td>['\"Thirteen\" is a completely new spin on the B...</td>\n",
       "    </tr>\n",
       "    <tr>\n",
       "      <th>83866</th>\n",
       "      <td>My Brother Jack (2013)</td>\n",
       "      <td>['Expertly crafted elements of psychological d...</td>\n",
       "    </tr>\n",
       "    <tr>\n",
       "      <th>76426</th>\n",
       "      <td>Major Crimes: Final Cut (2013) Season 2, Episo...</td>\n",
       "      <td>[\"Solid opening story for season two with an a...</td>\n",
       "    </tr>\n",
       "    <tr>\n",
       "      <th>36250</th>\n",
       "      <td>Doom Patrol: Space Patrol (2020) Season 2, Epi...</td>\n",
       "      <td>[\"Again, a great episode. This is really a cha...</td>\n",
       "    </tr>\n",
       "    <tr>\n",
       "      <th>72326</th>\n",
       "      <td>Light as a Feather: ...Lost as Eden (2019) Sea...</td>\n",
       "      <td>[\"They're obviously homophobic, and a pathetic...</td>\n",
       "    </tr>\n",
       "    <tr>\n",
       "      <th>41130</th>\n",
       "      <td>F. M. (Fun Aur Masti) (2007)</td>\n",
       "      <td>['A must watch film if you want to know about ...</td>\n",
       "    </tr>\n",
       "  </tbody>\n",
       "</table>\n",
       "</div>"
      ],
      "text/plain": [
       "                                                    movie  \\\n",
       "20831                                 Buffet froid (1979)   \n",
       "94621                              Platinum Blonde (1931)   \n",
       "49917                     Gracie's Choice (2004 TV Movie)   \n",
       "94104                         Pick of the Litter (2019– )   \n",
       "144002                                    Thirteen (2016)   \n",
       "83866                              My Brother Jack (2013)   \n",
       "76426   Major Crimes: Final Cut (2013) Season 2, Episo...   \n",
       "36250   Doom Patrol: Space Patrol (2020) Season 2, Epi...   \n",
       "72326   Light as a Feather: ...Lost as Eden (2019) Sea...   \n",
       "41130                        F. M. (Fun Aur Masti) (2007)   \n",
       "\n",
       "                                            review_detail  \n",
       "20831   [\"The gloriously gifted, genre iconoclast, Ber...  \n",
       "94621   [\"Jean Harlow got to do something I think was ...  \n",
       "49917   [\"have it on now this snowy fri in dec ny-nj a...  \n",
       "94104   ['Very interesting show. Makes you appreciate ...  \n",
       "144002  ['\"Thirteen\" is a completely new spin on the B...  \n",
       "83866   ['Expertly crafted elements of psychological d...  \n",
       "76426   [\"Solid opening story for season two with an a...  \n",
       "36250   [\"Again, a great episode. This is really a cha...  \n",
       "72326   [\"They're obviously homophobic, and a pathetic...  \n",
       "41130   ['A must watch film if you want to know about ...  "
      ]
     },
     "execution_count": 16,
     "metadata": {},
     "output_type": "execute_result"
    }
   ],
   "source": [
    "df=pd.read_csv('movies_and_reviews.csv')\n",
    "df.sample(10)"
   ]
  },
  {
   "cell_type": "code",
   "execution_count": 2,
   "id": "b95e98ed",
   "metadata": {},
   "outputs": [],
   "source": [
    "tfidf = pickle.load(open('vectorizer1.pkl','rb'))\n",
    "clf = pickle.load(open('modelc.pkl','rb'))"
   ]
  },
  {
   "cell_type": "code",
   "execution_count": 18,
   "id": "a49e79cd",
   "metadata": {},
   "outputs": [],
   "source": [
    "def return_prob(text):\n",
    "    soup = BeautifulSoup(text, 'html.parser')\n",
    "    text=soup.get_text()\n",
    "    text = contractions.fix(text)\n",
    "    emoticons = re.findall('(?::|;|=)(?:-)?(?:\\)|\\(|D|P)',\n",
    "                           text)\n",
    "    text = (re.sub('[\\W]+', ' ', text.lower()) +\n",
    "            ' '.join(emoticons).replace('-', ''))\n",
    "    tokens = word_tokenize(text.lower())\n",
    "\n",
    "    # Remove stop words\n",
    "    stop_words = set(stopwords.words('english'))\n",
    "    filtered_tokens = [token for token in tokens if token not in stop_words]\n",
    "\n",
    "    # Lemmatize the remaining words\n",
    "    lemmatizer = WordNetLemmatizer()\n",
    "    lemmatized_tokens = [lemmatizer.lemmatize(token) for token in filtered_tokens]\n",
    "\n",
    "    # Join the lemmatized tokens back into a single string\n",
    "    text = ' '.join(lemmatized_tokens)\n",
    "    vec=[]\n",
    "    vec.append(text)\n",
    "    vector=tfidf.transform(vec)\n",
    "    sentiment_prob = clf.predict_proba(vector)[:, 1][0]\n",
    "    vec.clear()\n",
    "    return sentiment_prob"
   ]
  },
  {
   "cell_type": "code",
   "execution_count": 19,
   "id": "249476de",
   "metadata": {},
   "outputs": [
    {
     "data": {
      "text/plain": [
       "0.9986640699747497"
      ]
     },
     "execution_count": 19,
     "metadata": {},
     "output_type": "execute_result"
    }
   ],
   "source": [
    "return_prob(\"Wonderful movie of all time\")"
   ]
  },
  {
   "cell_type": "code",
   "execution_count": 20,
   "id": "e28a0831",
   "metadata": {},
   "outputs": [],
   "source": [
    "def calculate_score(reviews):\n",
    "    sum=0\n",
    "    try:\n",
    "        reviews = eval(reviews)\n",
    "        if len(reviews)>30:\n",
    "            reviews=reviews[:10]\n",
    "        for i in reviews:\n",
    "            sum = sum+return_prob(i)\n",
    "        score=sum/len(reviews)\n",
    "        return score\n",
    "    except:\n",
    "        return np.nan"
   ]
  },
  {
   "cell_type": "code",
   "execution_count": 21,
   "id": "44fe4fd8",
   "metadata": {},
   "outputs": [
    {
     "data": {
      "text/plain": [
       "161500"
      ]
     },
     "execution_count": 21,
     "metadata": {},
     "output_type": "execute_result"
    }
   ],
   "source": [
    "len(df['review_detail'][3])"
   ]
  },
  {
   "cell_type": "code",
   "execution_count": 22,
   "id": "e7ae79a0",
   "metadata": {},
   "outputs": [
    {
     "data": {
      "text/plain": [
       "0.27609974277240074"
      ]
     },
     "execution_count": 22,
     "metadata": {},
     "output_type": "execute_result"
    }
   ],
   "source": [
    "calculate_score(df['review_detail'][209])"
   ]
  },
  {
   "cell_type": "code",
   "execution_count": 23,
   "id": "7cccfd03",
   "metadata": {},
   "outputs": [],
   "source": [
    "sample_df=df.head(100)"
   ]
  },
  {
   "cell_type": "code",
   "execution_count": 24,
   "id": "bbf2888b",
   "metadata": {},
   "outputs": [
    {
     "name": "stderr",
     "output_type": "stream",
     "text": [
      "C:\\Users\\recko\\AppData\\Local\\Temp\\ipykernel_8484\\2316312143.py:1: SettingWithCopyWarning: \n",
      "A value is trying to be set on a copy of a slice from a DataFrame.\n",
      "Try using .loc[row_indexer,col_indexer] = value instead\n",
      "\n",
      "See the caveats in the documentation: https://pandas.pydata.org/pandas-docs/stable/user_guide/indexing.html#returning-a-view-versus-a-copy\n",
      "  sample_df['senti_score']=sample_df['review_detail'].apply(calculate_score)\n"
     ]
    }
   ],
   "source": [
    "sample_df['senti_score']=sample_df['review_detail'].apply(calculate_score)"
   ]
  },
  {
   "cell_type": "code",
   "execution_count": 25,
   "id": "9a437a46",
   "metadata": {},
   "outputs": [
    {
     "data": {
      "text/html": [
       "<div>\n",
       "<style scoped>\n",
       "    .dataframe tbody tr th:only-of-type {\n",
       "        vertical-align: middle;\n",
       "    }\n",
       "\n",
       "    .dataframe tbody tr th {\n",
       "        vertical-align: top;\n",
       "    }\n",
       "\n",
       "    .dataframe thead th {\n",
       "        text-align: right;\n",
       "    }\n",
       "</style>\n",
       "<table border=\"1\" class=\"dataframe\">\n",
       "  <thead>\n",
       "    <tr style=\"text-align: right;\">\n",
       "      <th></th>\n",
       "      <th>movie</th>\n",
       "      <th>review_detail</th>\n",
       "      <th>senti_score</th>\n",
       "    </tr>\n",
       "  </thead>\n",
       "  <tbody>\n",
       "    <tr>\n",
       "      <th>0</th>\n",
       "      <td>\"Flip Flop Flippin': One man's search for char...</td>\n",
       "      <td>[\"I really enjoyed this homemade documentary. ...</td>\n",
       "      <td>0.951544</td>\n",
       "    </tr>\n",
       "    <tr>\n",
       "      <th>1</th>\n",
       "      <td>\"Lost Treasures of Egypt\" (2019–2020)</td>\n",
       "      <td>['It keeps showing Julian Barrett as narrator ...</td>\n",
       "      <td>0.598093</td>\n",
       "    </tr>\n",
       "    <tr>\n",
       "      <th>2</th>\n",
       "      <td>#1 Cheerleader Camp (2010 Video)</td>\n",
       "      <td>['The German title does suggest something like...</td>\n",
       "      <td>0.384411</td>\n",
       "    </tr>\n",
       "    <tr>\n",
       "      <th>3</th>\n",
       "      <td>#Alive (2020)</td>\n",
       "      <td>['Haven\\'t watched a zombie thriller in years,...</td>\n",
       "      <td>0.480739</td>\n",
       "    </tr>\n",
       "    <tr>\n",
       "      <th>4</th>\n",
       "      <td>#AnneFrank - Parallel Stories (2019)</td>\n",
       "      <td>[\"Overall it's a wonderful movie, they could o...</td>\n",
       "      <td>0.453795</td>\n",
       "    </tr>\n",
       "    <tr>\n",
       "      <th>5</th>\n",
       "      <td>#Anniversary (2020)</td>\n",
       "      <td>['Loved this short! It is reminiscent of, Blac...</td>\n",
       "      <td>0.835151</td>\n",
       "    </tr>\n",
       "    <tr>\n",
       "      <th>6</th>\n",
       "      <td>#BlackAF (2020– )</td>\n",
       "      <td>[\"I'm guessing that as a 62 year old white wom...</td>\n",
       "      <td>0.665142</td>\n",
       "    </tr>\n",
       "    <tr>\n",
       "      <th>7</th>\n",
       "      <td>#BlackLove (2015–2016)</td>\n",
       "      <td>[\"The name of the show caught my attention as ...</td>\n",
       "      <td>0.998313</td>\n",
       "    </tr>\n",
       "    <tr>\n",
       "      <th>8</th>\n",
       "      <td>#Female Pleasure (2018)</td>\n",
       "      <td>['I watched, I cried, and I cringed. I\\'m a ma...</td>\n",
       "      <td>0.112966</td>\n",
       "    </tr>\n",
       "    <tr>\n",
       "      <th>9</th>\n",
       "      <td>#FollowFriday (2016 TV Movie)</td>\n",
       "      <td>[\"Um... I watch a lot of movies, and I give mo...</td>\n",
       "      <td>0.008691</td>\n",
       "    </tr>\n",
       "  </tbody>\n",
       "</table>\n",
       "</div>"
      ],
      "text/plain": [
       "                                               movie  \\\n",
       "0  \"Flip Flop Flippin': One man's search for char...   \n",
       "1              \"Lost Treasures of Egypt\" (2019–2020)   \n",
       "2                   #1 Cheerleader Camp (2010 Video)   \n",
       "3                                      #Alive (2020)   \n",
       "4               #AnneFrank - Parallel Stories (2019)   \n",
       "5                                #Anniversary (2020)   \n",
       "6                                  #BlackAF (2020– )   \n",
       "7                             #BlackLove (2015–2016)   \n",
       "8                            #Female Pleasure (2018)   \n",
       "9                      #FollowFriday (2016 TV Movie)   \n",
       "\n",
       "                                       review_detail  senti_score  \n",
       "0  [\"I really enjoyed this homemade documentary. ...     0.951544  \n",
       "1  ['It keeps showing Julian Barrett as narrator ...     0.598093  \n",
       "2  ['The German title does suggest something like...     0.384411  \n",
       "3  ['Haven\\'t watched a zombie thriller in years,...     0.480739  \n",
       "4  [\"Overall it's a wonderful movie, they could o...     0.453795  \n",
       "5  ['Loved this short! It is reminiscent of, Blac...     0.835151  \n",
       "6  [\"I'm guessing that as a 62 year old white wom...     0.665142  \n",
       "7  [\"The name of the show caught my attention as ...     0.998313  \n",
       "8  ['I watched, I cried, and I cringed. I\\'m a ma...     0.112966  \n",
       "9  [\"Um... I watch a lot of movies, and I give mo...     0.008691  "
      ]
     },
     "execution_count": 25,
     "metadata": {},
     "output_type": "execute_result"
    }
   ],
   "source": [
    "sample_df.head(10)"
   ]
  },
  {
   "cell_type": "code",
   "execution_count": 26,
   "id": "d23cdb9c",
   "metadata": {},
   "outputs": [
    {
     "name": "stderr",
     "output_type": "stream",
     "text": [
      "C:\\Users\\recko\\anaconda3\\lib\\site-packages\\bs4\\__init__.py:337: MarkupResemblesLocatorWarning: \"... .. ... ... ....... ....... ........ ........ .......\" looks like a directory name, not markup. You may want to open a file found in this directory and pass the filehandle into Beautiful Soup.\n",
      "  warnings.warn(\n"
     ]
    }
   ],
   "source": [
    "df['senti_score']=df['review_detail'].apply(calculate_score)"
   ]
  },
  {
   "cell_type": "code",
   "execution_count": 27,
   "id": "e399269b",
   "metadata": {},
   "outputs": [
    {
     "data": {
      "text/html": [
       "<div>\n",
       "<style scoped>\n",
       "    .dataframe tbody tr th:only-of-type {\n",
       "        vertical-align: middle;\n",
       "    }\n",
       "\n",
       "    .dataframe tbody tr th {\n",
       "        vertical-align: top;\n",
       "    }\n",
       "\n",
       "    .dataframe thead th {\n",
       "        text-align: right;\n",
       "    }\n",
       "</style>\n",
       "<table border=\"1\" class=\"dataframe\">\n",
       "  <thead>\n",
       "    <tr style=\"text-align: right;\">\n",
       "      <th></th>\n",
       "      <th>movie</th>\n",
       "      <th>review_detail</th>\n",
       "      <th>senti_score</th>\n",
       "    </tr>\n",
       "  </thead>\n",
       "  <tbody>\n",
       "    <tr>\n",
       "      <th>0</th>\n",
       "      <td>\"Flip Flop Flippin': One man's search for char...</td>\n",
       "      <td>[\"I really enjoyed this homemade documentary. ...</td>\n",
       "      <td>0.951544</td>\n",
       "    </tr>\n",
       "    <tr>\n",
       "      <th>1</th>\n",
       "      <td>\"Lost Treasures of Egypt\" (2019–2020)</td>\n",
       "      <td>['It keeps showing Julian Barrett as narrator ...</td>\n",
       "      <td>0.598093</td>\n",
       "    </tr>\n",
       "    <tr>\n",
       "      <th>2</th>\n",
       "      <td>#1 Cheerleader Camp (2010 Video)</td>\n",
       "      <td>['The German title does suggest something like...</td>\n",
       "      <td>0.384411</td>\n",
       "    </tr>\n",
       "    <tr>\n",
       "      <th>3</th>\n",
       "      <td>#Alive (2020)</td>\n",
       "      <td>['Haven\\'t watched a zombie thriller in years,...</td>\n",
       "      <td>0.480739</td>\n",
       "    </tr>\n",
       "    <tr>\n",
       "      <th>4</th>\n",
       "      <td>#AnneFrank - Parallel Stories (2019)</td>\n",
       "      <td>[\"Overall it's a wonderful movie, they could o...</td>\n",
       "      <td>0.453795</td>\n",
       "    </tr>\n",
       "    <tr>\n",
       "      <th>5</th>\n",
       "      <td>#Anniversary (2020)</td>\n",
       "      <td>['Loved this short! It is reminiscent of, Blac...</td>\n",
       "      <td>0.835151</td>\n",
       "    </tr>\n",
       "    <tr>\n",
       "      <th>6</th>\n",
       "      <td>#BlackAF (2020– )</td>\n",
       "      <td>[\"I'm guessing that as a 62 year old white wom...</td>\n",
       "      <td>0.665142</td>\n",
       "    </tr>\n",
       "    <tr>\n",
       "      <th>7</th>\n",
       "      <td>#BlackLove (2015–2016)</td>\n",
       "      <td>[\"The name of the show caught my attention as ...</td>\n",
       "      <td>0.998313</td>\n",
       "    </tr>\n",
       "    <tr>\n",
       "      <th>8</th>\n",
       "      <td>#Female Pleasure (2018)</td>\n",
       "      <td>['I watched, I cried, and I cringed. I\\'m a ma...</td>\n",
       "      <td>0.112966</td>\n",
       "    </tr>\n",
       "    <tr>\n",
       "      <th>9</th>\n",
       "      <td>#FollowFriday (2016 TV Movie)</td>\n",
       "      <td>[\"Um... I watch a lot of movies, and I give mo...</td>\n",
       "      <td>0.008691</td>\n",
       "    </tr>\n",
       "  </tbody>\n",
       "</table>\n",
       "</div>"
      ],
      "text/plain": [
       "                                               movie  \\\n",
       "0  \"Flip Flop Flippin': One man's search for char...   \n",
       "1              \"Lost Treasures of Egypt\" (2019–2020)   \n",
       "2                   #1 Cheerleader Camp (2010 Video)   \n",
       "3                                      #Alive (2020)   \n",
       "4               #AnneFrank - Parallel Stories (2019)   \n",
       "5                                #Anniversary (2020)   \n",
       "6                                  #BlackAF (2020– )   \n",
       "7                             #BlackLove (2015–2016)   \n",
       "8                            #Female Pleasure (2018)   \n",
       "9                      #FollowFriday (2016 TV Movie)   \n",
       "\n",
       "                                       review_detail  senti_score  \n",
       "0  [\"I really enjoyed this homemade documentary. ...     0.951544  \n",
       "1  ['It keeps showing Julian Barrett as narrator ...     0.598093  \n",
       "2  ['The German title does suggest something like...     0.384411  \n",
       "3  ['Haven\\'t watched a zombie thriller in years,...     0.480739  \n",
       "4  [\"Overall it's a wonderful movie, they could o...     0.453795  \n",
       "5  ['Loved this short! It is reminiscent of, Blac...     0.835151  \n",
       "6  [\"I'm guessing that as a 62 year old white wom...     0.665142  \n",
       "7  [\"The name of the show caught my attention as ...     0.998313  \n",
       "8  ['I watched, I cried, and I cringed. I\\'m a ma...     0.112966  \n",
       "9  [\"Um... I watch a lot of movies, and I give mo...     0.008691  "
      ]
     },
     "execution_count": 27,
     "metadata": {},
     "output_type": "execute_result"
    }
   ],
   "source": [
    "df.head(10)"
   ]
  },
  {
   "cell_type": "code",
   "execution_count": 28,
   "id": "9ea5410e",
   "metadata": {},
   "outputs": [],
   "source": [
    "df.to_csv('scores.csv', index=False)"
   ]
  },
  {
   "cell_type": "code",
   "execution_count": 4,
   "id": "495d5ae6",
   "metadata": {},
   "outputs": [
    {
     "data": {
      "text/html": [
       "<div>\n",
       "<style scoped>\n",
       "    .dataframe tbody tr th:only-of-type {\n",
       "        vertical-align: middle;\n",
       "    }\n",
       "\n",
       "    .dataframe tbody tr th {\n",
       "        vertical-align: top;\n",
       "    }\n",
       "\n",
       "    .dataframe thead th {\n",
       "        text-align: right;\n",
       "    }\n",
       "</style>\n",
       "<table border=\"1\" class=\"dataframe\">\n",
       "  <thead>\n",
       "    <tr style=\"text-align: right;\">\n",
       "      <th></th>\n",
       "      <th>movie</th>\n",
       "      <th>review_detail</th>\n",
       "      <th>senti_score</th>\n",
       "    </tr>\n",
       "  </thead>\n",
       "  <tbody>\n",
       "    <tr>\n",
       "      <th>140305</th>\n",
       "      <td>The Thomas Crown Affair (1968)</td>\n",
       "      <td>[\"Seldom do I see a movie I cannot look away f...</td>\n",
       "      <td>0.406194</td>\n",
       "    </tr>\n",
       "    <tr>\n",
       "      <th>140352</th>\n",
       "      <td>The Thrill of Brazil (1946)</td>\n",
       "      <td>['While this move is entertaining has some goo...</td>\n",
       "      <td>0.054340</td>\n",
       "    </tr>\n",
       "    <tr>\n",
       "      <th>74196</th>\n",
       "      <td>Love Camp 7 (1969)</td>\n",
       "      <td>['I only watched this because I\\'m going down ...</td>\n",
       "      <td>0.085070</td>\n",
       "    </tr>\n",
       "    <tr>\n",
       "      <th>151858</th>\n",
       "      <td>Wagon Train: The Mark Miner Story (1961) Seaso...</td>\n",
       "      <td>[\"The Miner brothers, Brandon DeWilde and Mich...</td>\n",
       "      <td>0.896824</td>\n",
       "    </tr>\n",
       "    <tr>\n",
       "      <th>46895</th>\n",
       "      <td>Gambiit (2020)</td>\n",
       "      <td>['Cool film..we get a thrilling effect for who...</td>\n",
       "      <td>0.832881</td>\n",
       "    </tr>\n",
       "    <tr>\n",
       "      <th>28830</th>\n",
       "      <td>Crosshair: A Tipping Point (2020)</td>\n",
       "      <td>[\"This is a fantastic short film. The director...</td>\n",
       "      <td>0.999497</td>\n",
       "    </tr>\n",
       "    <tr>\n",
       "      <th>28067</th>\n",
       "      <td>Cowboys &amp; Indians (2011)</td>\n",
       "      <td>[\"Lighting is bad. In the same scene, some ski...</td>\n",
       "      <td>0.039075</td>\n",
       "    </tr>\n",
       "    <tr>\n",
       "      <th>146350</th>\n",
       "      <td>Town Diary (2002)</td>\n",
       "      <td>['Written and directed like a middle-aged wash...</td>\n",
       "      <td>0.002919</td>\n",
       "    </tr>\n",
       "    <tr>\n",
       "      <th>20435</th>\n",
       "      <td>Bron/Broen: Episode #1.6 (2011) Season 1, Epis...</td>\n",
       "      <td>['My overall rating of \"Bron/Broen\"\\'s Season ...</td>\n",
       "      <td>0.686304</td>\n",
       "    </tr>\n",
       "    <tr>\n",
       "      <th>96472</th>\n",
       "      <td>Profilage: L'étoile filante (2013) Season 4, E...</td>\n",
       "      <td>[\"Great show. Can't wait to watch season 3. Ca...</td>\n",
       "      <td>0.963067</td>\n",
       "    </tr>\n",
       "  </tbody>\n",
       "</table>\n",
       "</div>"
      ],
      "text/plain": [
       "                                                    movie  \\\n",
       "140305                     The Thomas Crown Affair (1968)   \n",
       "140352                        The Thrill of Brazil (1946)   \n",
       "74196                                  Love Camp 7 (1969)   \n",
       "151858  Wagon Train: The Mark Miner Story (1961) Seaso...   \n",
       "46895                                      Gambiit (2020)   \n",
       "28830                   Crosshair: A Tipping Point (2020)   \n",
       "28067                            Cowboys & Indians (2011)   \n",
       "146350                                  Town Diary (2002)   \n",
       "20435   Bron/Broen: Episode #1.6 (2011) Season 1, Epis...   \n",
       "96472   Profilage: L'étoile filante (2013) Season 4, E...   \n",
       "\n",
       "                                            review_detail  senti_score  \n",
       "140305  [\"Seldom do I see a movie I cannot look away f...     0.406194  \n",
       "140352  ['While this move is entertaining has some goo...     0.054340  \n",
       "74196   ['I only watched this because I\\'m going down ...     0.085070  \n",
       "151858  [\"The Miner brothers, Brandon DeWilde and Mich...     0.896824  \n",
       "46895   ['Cool film..we get a thrilling effect for who...     0.832881  \n",
       "28830   [\"This is a fantastic short film. The director...     0.999497  \n",
       "28067   [\"Lighting is bad. In the same scene, some ski...     0.039075  \n",
       "146350  ['Written and directed like a middle-aged wash...     0.002919  \n",
       "20435   ['My overall rating of \"Bron/Broen\"\\'s Season ...     0.686304  \n",
       "96472   [\"Great show. Can't wait to watch season 3. Ca...     0.963067  "
      ]
     },
     "execution_count": 4,
     "metadata": {},
     "output_type": "execute_result"
    }
   ],
   "source": [
    "df=pd.read_csv('scores.csv')\n",
    "df.sample(10)"
   ]
  },
  {
   "cell_type": "code",
   "execution_count": 5,
   "id": "b4cbbf89",
   "metadata": {},
   "outputs": [
    {
     "data": {
      "text/plain": [
       "movie            0\n",
       "review_detail    0\n",
       "senti_score      1\n",
       "dtype: int64"
      ]
     },
     "execution_count": 5,
     "metadata": {},
     "output_type": "execute_result"
    }
   ],
   "source": [
    "df.isnull().sum()"
   ]
  },
  {
   "cell_type": "code",
   "execution_count": 8,
   "id": "2e8bc87e",
   "metadata": {},
   "outputs": [
    {
     "data": {
      "text/plain": [
       "'[\"This is a fantastic short film. The director does a great job of telling a complete story with minimal dialog. It\\'s genuinely suspenseful, looks good, and has a great ending. The music also sounds great. It really adds to the suspense and glues the film together.I highly recommend taking a few minutes to see this film and what a good storyteller can achieve.\"]'"
      ]
     },
     "execution_count": 8,
     "metadata": {},
     "output_type": "execute_result"
    }
   ],
   "source": [
    "df['review_detail'][28830]"
   ]
  },
  {
   "cell_type": "code",
   "execution_count": null,
   "id": "d25347bd",
   "metadata": {},
   "outputs": [],
   "source": []
  }
 ],
 "metadata": {
  "kernelspec": {
   "display_name": "Python 3 (ipykernel)",
   "language": "python",
   "name": "python3"
  },
  "language_info": {
   "codemirror_mode": {
    "name": "ipython",
    "version": 3
   },
   "file_extension": ".py",
   "mimetype": "text/x-python",
   "name": "python",
   "nbconvert_exporter": "python",
   "pygments_lexer": "ipython3",
   "version": "3.9.12"
  }
 },
 "nbformat": 4,
 "nbformat_minor": 5
}
