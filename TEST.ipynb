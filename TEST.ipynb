{
 "cells": [
  {
   "cell_type": "code",
   "execution_count": 3,
   "id": "7b63be88",
   "metadata": {},
   "outputs": [],
   "source": [
    "import pandas as pd\n",
    "from surprise import dump"
   ]
  },
  {
   "cell_type": "code",
   "execution_count": 4,
   "id": "5f3d7505",
   "metadata": {},
   "outputs": [],
   "source": [
    "loaded_model = dump.load('svd_model.pkl')"
   ]
  },
  {
   "cell_type": "code",
   "execution_count": 9,
   "id": "ccfbf544",
   "metadata": {},
   "outputs": [],
   "source": [
    "svd_model = loaded_model[1]"
   ]
  },
  {
   "cell_type": "code",
   "execution_count": 6,
   "id": "34cde9ba",
   "metadata": {},
   "outputs": [],
   "source": [
    "movielens=pd.read_csv('movielens.csv')"
   ]
  },
  {
   "cell_type": "code",
   "execution_count": 8,
   "id": "98166768",
   "metadata": {},
   "outputs": [
    {
     "data": {
      "text/html": [
       "<div>\n",
       "<style scoped>\n",
       "    .dataframe tbody tr th:only-of-type {\n",
       "        vertical-align: middle;\n",
       "    }\n",
       "\n",
       "    .dataframe tbody tr th {\n",
       "        vertical-align: top;\n",
       "    }\n",
       "\n",
       "    .dataframe thead th {\n",
       "        text-align: right;\n",
       "    }\n",
       "</style>\n",
       "<table border=\"1\" class=\"dataframe\">\n",
       "  <thead>\n",
       "    <tr style=\"text-align: right;\">\n",
       "      <th></th>\n",
       "      <th>user_id</th>\n",
       "      <th>movie_id</th>\n",
       "      <th>rating</th>\n",
       "      <th>timestamp</th>\n",
       "      <th>title</th>\n",
       "      <th>genre</th>\n",
       "    </tr>\n",
       "  </thead>\n",
       "  <tbody>\n",
       "    <tr>\n",
       "      <th>0</th>\n",
       "      <td>5755</td>\n",
       "      <td>184</td>\n",
       "      <td>3</td>\n",
       "      <td>958280246</td>\n",
       "      <td>Nadja (1994)</td>\n",
       "      <td>Drama</td>\n",
       "    </tr>\n",
       "    <tr>\n",
       "      <th>1</th>\n",
       "      <td>4585</td>\n",
       "      <td>519</td>\n",
       "      <td>3</td>\n",
       "      <td>964321944</td>\n",
       "      <td>Robocop 3 (1993)</td>\n",
       "      <td>Sci-Fi|Thriller</td>\n",
       "    </tr>\n",
       "    <tr>\n",
       "      <th>2</th>\n",
       "      <td>1503</td>\n",
       "      <td>3114</td>\n",
       "      <td>4</td>\n",
       "      <td>974762175</td>\n",
       "      <td>Toy Story 2 (1999)</td>\n",
       "      <td>Animation|Children's|Comedy</td>\n",
       "    </tr>\n",
       "    <tr>\n",
       "      <th>3</th>\n",
       "      <td>2166</td>\n",
       "      <td>648</td>\n",
       "      <td>4</td>\n",
       "      <td>974614593</td>\n",
       "      <td>Mission: Impossible (1996)</td>\n",
       "      <td>Action|Adventure|Mystery</td>\n",
       "    </tr>\n",
       "    <tr>\n",
       "      <th>4</th>\n",
       "      <td>3201</td>\n",
       "      <td>2178</td>\n",
       "      <td>5</td>\n",
       "      <td>968626301</td>\n",
       "      <td>Frenzy (1972)</td>\n",
       "      <td>Thriller</td>\n",
       "    </tr>\n",
       "  </tbody>\n",
       "</table>\n",
       "</div>"
      ],
      "text/plain": [
       "   user_id  movie_id  rating  timestamp                       title  \\\n",
       "0     5755       184       3  958280246                Nadja (1994)   \n",
       "1     4585       519       3  964321944            Robocop 3 (1993)   \n",
       "2     1503      3114       4  974762175          Toy Story 2 (1999)   \n",
       "3     2166       648       4  974614593  Mission: Impossible (1996)   \n",
       "4     3201      2178       5  968626301               Frenzy (1972)   \n",
       "\n",
       "                         genre  \n",
       "0                        Drama  \n",
       "1              Sci-Fi|Thriller  \n",
       "2  Animation|Children's|Comedy  \n",
       "3     Action|Adventure|Mystery  \n",
       "4                     Thriller  "
      ]
     },
     "execution_count": 8,
     "metadata": {},
     "output_type": "execute_result"
    }
   ],
   "source": [
    "movielens.head()"
   ]
  },
  {
   "cell_type": "code",
   "execution_count": 12,
   "id": "15fd2384",
   "metadata": {},
   "outputs": [],
   "source": [
    "def get_recommendations(data, user_id, top_n, algo):\n",
    "   \n",
    "    # creating an empty list to store the recommended product ids\n",
    "    recommendations = []\n",
    "    print(user_id)\n",
    "    # creating an user item interactions matrix \n",
    "    user_movie_interactions_matrix = data.pivot(index='user_id', columns='title', values='rating')\n",
    "    print(user_movie_interactions_matrix.shape)\n",
    "    # extracting those product names which the user_id has not interacted yet\n",
    "    #non_interacted_movies = user_movie_interactions_matrix.loc[user_id][user_movie_interactions_matrix.loc[user_id].isnull()].index.tolist()\n",
    "    rated_movies = set(data[data['user_id'] == user_id]['title'])\n",
    "    all_movies = set(data['title'])\n",
    "    unrated_movies = list(all_movies - rated_movies)\n",
    "    # looping through each of the product names which user_id has not interacted yet\n",
    "    for item_name in unrated_movies:\n",
    "        \n",
    "        # predicting the ratings for those non interacted product ids by this user\n",
    "        est = algo.predict(user_id, item_name).est\n",
    "        \n",
    "        # appending the predicted ratings\n",
    "        #movie_name = movies[movies['movie_id']==str(item_id)]['title'].values[0]\n",
    "        recommendations.append((item_name, est))\n",
    "    # sorting the predicted ratings in descending order\n",
    "    recommendations.sort(key=lambda x: x[1], reverse=True)\n",
    "    #print(recommendations)\n",
    "\n",
    "    return recommendations[:top_n]"
   ]
  },
  {
   "cell_type": "code",
   "execution_count": 13,
   "id": "53af1563",
   "metadata": {},
   "outputs": [
    {
     "name": "stdout",
     "output_type": "stream",
     "text": [
      "2166\n",
      "(6040, 3706)\n"
     ]
    },
    {
     "data": {
      "text/plain": [
       "[('Pulp Fiction (1994)', 5),\n",
       " ('GoodFellas (1990)', 4.931649461333511),\n",
       " ('Tombstone (1993)', 4.802853162571019),\n",
       " ('Forrest Gump (1994)', 4.801575841506107),\n",
       " ('Palm Beach Story, The (1942)', 4.793447538982498)]"
      ]
     },
     "execution_count": 13,
     "metadata": {},
     "output_type": "execute_result"
    }
   ],
   "source": [
    "get_recommendations(movielens,2166,5,svd_model)"
   ]
  },
  {
   "cell_type": "code",
   "execution_count": 14,
   "id": "58d7175a",
   "metadata": {},
   "outputs": [
    {
     "name": "stdout",
     "output_type": "stream",
     "text": [
      "3201\n",
      "(6040, 3706)\n"
     ]
    },
    {
     "data": {
      "text/plain": [
       "[('Saving Private Ryan (1998)', 5),\n",
       " ('Yojimbo (1961)', 5),\n",
       " ('Silence of the Lambs, The (1991)', 5),\n",
       " ('Paths of Glory (1957)', 5),\n",
       " ('Raiders of the Lost Ark (1981)', 5)]"
      ]
     },
     "execution_count": 14,
     "metadata": {},
     "output_type": "execute_result"
    }
   ],
   "source": [
    "get_recommendations(movielens,3201,5,svd_model)"
   ]
  },
  {
   "cell_type": "code",
   "execution_count": null,
   "id": "1d5d6bfd",
   "metadata": {},
   "outputs": [],
   "source": []
  }
 ],
 "metadata": {
  "kernelspec": {
   "display_name": "Python 3 (ipykernel)",
   "language": "python",
   "name": "python3"
  },
  "language_info": {
   "codemirror_mode": {
    "name": "ipython",
    "version": 3
   },
   "file_extension": ".py",
   "mimetype": "text/x-python",
   "name": "python",
   "nbconvert_exporter": "python",
   "pygments_lexer": "ipython3",
   "version": "3.9.12"
  }
 },
 "nbformat": 4,
 "nbformat_minor": 5
}
